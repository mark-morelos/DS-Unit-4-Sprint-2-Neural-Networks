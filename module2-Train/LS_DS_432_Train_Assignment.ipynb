{
  "nbformat": 4,
  "nbformat_minor": 0,
  "metadata": {
    "colab": {
      "name": "LS_DS_432_Train_Assignment.ipynb",
      "provenance": [],
      "collapsed_sections": []
    },
    "kernelspec": {
      "display_name": "Python 3",
      "language": "python",
      "name": "python3"
    },
    "language_info": {
      "codemirror_mode": {
        "name": "ipython",
        "version": 3
      },
      "file_extension": ".py",
      "mimetype": "text/x-python",
      "name": "python",
      "nbconvert_exporter": "python",
      "pygments_lexer": "ipython3",
      "version": "3.8.3"
    },
    "nteract": {
      "version": "0.22.4"
    }
  },
  "cells": [
    {
      "cell_type": "markdown",
      "metadata": {
        "id": "NGGrt9EYlCqY"
      },
      "source": [
        "<img align=\"left\" src=\"https://lever-client-logos.s3.amazonaws.com/864372b1-534c-480e-acd5-9711f850815c-1524247202159.png\" width=200>\n",
        "<br></br>\n",
        "<br></br>\n",
        "\n",
        "# Train Practice\n",
        "\n",
        "## *Data Science Unit 4 Sprint 2 Assignment 2*\n",
        "\n",
        "Continue to use TensorFlow Keras & a sample of the [Quickdraw dataset](https://github.com/googlecreativelab/quickdraw-dataset) to build a sketch classification model. The dataset has been sampled to only 10 classes and 10000 observations per class. Please build a baseline classification model then run a few experiments with different optimizers and learning rates. \n",
        "\n",
        "*Don't forgot to switch to GPU on Colab!*"
      ]
    },
    {
      "cell_type": "markdown",
      "metadata": {
        "id": "ptJ2b3wk62Ud"
      },
      "source": [
        "### Write a function to load your data\n",
        "\n",
        "Wrap yesterday's preprocessing steps into a function that returns four items:\n",
        "* X_train\n",
        "* y_train\n",
        "* X_test\n",
        "* y_test\n",
        "\n",
        "Your function should accept a `path` to the data as a argument."
      ]
    },
    {
      "cell_type": "code",
      "metadata": {
        "id": "EC9aaHhUGbZ1"
      },
      "source": [
        "import warnings\n",
        "warnings.filterwarnings('ignore')\n",
        "\n",
        "import pandas as pd\n",
        "import numpy as np\n",
        "from sklearn.model_selection import train_test_split"
      ],
      "execution_count": 1,
      "outputs": []
    },
    {
      "cell_type": "code",
      "metadata": {
        "id": "nJsIsrvp7O3e"
      },
      "source": [
        "def load_quickdraw10(path):\n",
        "  data = np.load(path)\n",
        "  X = data['arr_0']\n",
        "  y = data['arr_1']\n",
        "  X_train, X_test, y_train, y_test = train_test_split(X, y, test_size=0.2, random_state=42)\n",
        "  return X_train, X_test, y_train, y_test"
      ],
      "execution_count": 4,
      "outputs": []
    },
    {
      "cell_type": "code",
      "metadata": {
        "id": "XsyPpPoVGk95",
        "outputId": "71797e79-78f5-49f8-f8f4-772699dc63be",
        "colab": {
          "base_uri": "https://localhost:8080/"
        }
      },
      "source": [
        "X_train, X_test, y_train, y_test = load_quickdraw10('/content/sample_data/quickdraw10.npz')\n",
        "\n",
        "print(X_train.shape)\n",
        "print(y_train.shape)\n",
        "print(X_test.shape)\n",
        "print(y_test.shape)"
      ],
      "execution_count": 9,
      "outputs": [
        {
          "output_type": "stream",
          "text": [
            "(80000, 784)\n",
            "(80000,)\n",
            "(20000, 784)\n",
            "(20000,)\n"
          ],
          "name": "stdout"
        }
      ]
    },
    {
      "cell_type": "markdown",
      "metadata": {
        "id": "l-6PxI6H5__2"
      },
      "source": [
        "### Write a Model Function\n",
        "Using your model from yesterday, write a function called `create_model` which returns a compiled TensorFlow Keras Sequential Model suitable for classifying the QuickDraw-10 dataset. Include parameters for the following: \n",
        "* Learning Rate\n",
        "* Optimizer"
      ]
    },
    {
      "cell_type": "code",
      "metadata": {
        "id": "n00m_YU1Gj9Q",
        "outputId": "964949d3-7690-4c18-fa07-524a0a024003",
        "colab": {
          "base_uri": "https://localhost:8080/"
        }
      },
      "source": [
        "##### Your Code Here #####\n",
        "\n",
        "from tensorflow.keras import Sequential\n",
        "from tensorflow.keras.layers import Dense\n",
        "from tensorflow.keras.optimizers import SGD\n",
        "from tensorflow.keras.optimizers import Adam\n",
        "\n",
        "def create_model(lr=0.001):\n",
        "  opt = Adam(learning_rate=lr)\n",
        "  model = Sequential([\n",
        "    Dense(32, activation='relu', input_dim=784),\n",
        "    Dense(32, activation='relu'),\n",
        "    Dense(10, activation='softmax')\n",
        "  ])\n",
        "  model.compile(optimizer=opt,\n",
        "                loss='sparse_categorical_crossentropy',\n",
        "                metrics=['accuracy'])\n",
        "  return model\n",
        "\n",
        "model = create_model()\n",
        "model.summary()"
      ],
      "execution_count": 10,
      "outputs": [
        {
          "output_type": "stream",
          "text": [
            "Model: \"sequential\"\n",
            "_________________________________________________________________\n",
            "Layer (type)                 Output Shape              Param #   \n",
            "=================================================================\n",
            "dense (Dense)                (None, 32)                25120     \n",
            "_________________________________________________________________\n",
            "dense_1 (Dense)              (None, 32)                1056      \n",
            "_________________________________________________________________\n",
            "dense_2 (Dense)              (None, 10)                330       \n",
            "=================================================================\n",
            "Total params: 26,506\n",
            "Trainable params: 26,506\n",
            "Non-trainable params: 0\n",
            "_________________________________________________________________\n"
          ],
          "name": "stdout"
        }
      ]
    },
    {
      "cell_type": "markdown",
      "metadata": {
        "id": "f0pCkh8C7eGL"
      },
      "source": [
        "### Experiment with Batch Size\n",
        "* Run 5 experiments with various batch sizes of your choice. \n",
        "* Visualize the results\n",
        "* Write up an analysis of the experiments and select the \"best\" performing model among your experiments. Make sure to compare against your model's performance yesterday. "
      ]
    },
    {
      "cell_type": "code",
      "metadata": {
        "id": "USXjs7Hk71Hy",
        "outputId": "1b381adb-b370-4c5b-aed6-514f58a940b8",
        "colab": {
          "base_uri": "https://localhost:8080/"
        }
      },
      "source": [
        "model = create_model()\n",
        "\n",
        "bt_32 = model.fit(\n",
        "  X_train, y_train,\n",
        "  epochs=15,\n",
        "  batch_size=32,\n",
        "  validation_data=(X_test, y_test)\n",
        ")"
      ],
      "execution_count": 11,
      "outputs": [
        {
          "output_type": "stream",
          "text": [
            "Epoch 1/15\n",
            "2500/2500 [==============================] - 4s 2ms/step - loss: 2.1266 - accuracy: 0.4065 - val_loss: 1.3782 - val_accuracy: 0.5275\n",
            "Epoch 2/15\n",
            "2500/2500 [==============================] - 4s 2ms/step - loss: 1.3028 - accuracy: 0.5537 - val_loss: 1.2442 - val_accuracy: 0.5884\n",
            "Epoch 3/15\n",
            "2500/2500 [==============================] - 4s 2ms/step - loss: 1.1576 - accuracy: 0.6123 - val_loss: 1.1192 - val_accuracy: 0.6268\n",
            "Epoch 4/15\n",
            "2500/2500 [==============================] - 4s 2ms/step - loss: 1.0903 - accuracy: 0.6316 - val_loss: 1.0986 - val_accuracy: 0.6334\n",
            "Epoch 5/15\n",
            "2500/2500 [==============================] - 4s 2ms/step - loss: 1.0612 - accuracy: 0.6421 - val_loss: 1.1297 - val_accuracy: 0.6419\n",
            "Epoch 6/15\n",
            "2500/2500 [==============================] - 4s 2ms/step - loss: 1.0436 - accuracy: 0.6469 - val_loss: 1.0734 - val_accuracy: 0.6470\n",
            "Epoch 7/15\n",
            "2500/2500 [==============================] - 4s 2ms/step - loss: 1.0130 - accuracy: 0.6585 - val_loss: 1.0512 - val_accuracy: 0.6613\n",
            "Epoch 8/15\n",
            "2500/2500 [==============================] - 4s 2ms/step - loss: 1.0017 - accuracy: 0.6654 - val_loss: 1.0101 - val_accuracy: 0.6830\n",
            "Epoch 9/15\n",
            "2500/2500 [==============================] - 4s 2ms/step - loss: 0.9827 - accuracy: 0.6733 - val_loss: 0.9728 - val_accuracy: 0.6827\n",
            "Epoch 10/15\n",
            "2500/2500 [==============================] - 4s 2ms/step - loss: 0.9608 - accuracy: 0.6807 - val_loss: 0.9697 - val_accuracy: 0.6883\n",
            "Epoch 11/15\n",
            "2500/2500 [==============================] - 4s 2ms/step - loss: 0.9410 - accuracy: 0.6921 - val_loss: 0.9450 - val_accuracy: 0.7004\n",
            "Epoch 12/15\n",
            "2500/2500 [==============================] - 4s 2ms/step - loss: 0.9261 - accuracy: 0.7001 - val_loss: 0.9432 - val_accuracy: 0.6962\n",
            "Epoch 13/15\n",
            "2500/2500 [==============================] - 4s 2ms/step - loss: 0.8968 - accuracy: 0.7137 - val_loss: 0.9187 - val_accuracy: 0.6984\n",
            "Epoch 14/15\n",
            "2500/2500 [==============================] - 4s 2ms/step - loss: 0.8891 - accuracy: 0.7124 - val_loss: 0.9443 - val_accuracy: 0.6910\n",
            "Epoch 15/15\n",
            "2500/2500 [==============================] - 4s 2ms/step - loss: 0.8984 - accuracy: 0.7032 - val_loss: 0.8914 - val_accuracy: 0.7096\n"
          ],
          "name": "stdout"
        }
      ]
    },
    {
      "cell_type": "code",
      "metadata": {
        "id": "i3uo1ss2IHze",
        "outputId": "96b7470c-9193-4616-a24a-0fe679c2eb1c",
        "colab": {
          "base_uri": "https://localhost:8080/"
        }
      },
      "source": [
        "model = create_model()\n",
        "\n",
        "bt_128 = model.fit(\n",
        "  X_train, y_train,\n",
        "  epochs=15,\n",
        "  batch_size=128,\n",
        "  validation_data=(X_test, y_test)\n",
        ")"
      ],
      "execution_count": 15,
      "outputs": [
        {
          "output_type": "stream",
          "text": [
            "Epoch 1/15\n",
            "625/625 [==============================] - 2s 3ms/step - loss: 3.1158 - accuracy: 0.3456 - val_loss: 1.5950 - val_accuracy: 0.4405\n",
            "Epoch 2/15\n",
            "625/625 [==============================] - 2s 3ms/step - loss: 1.4287 - accuracy: 0.5164 - val_loss: 1.2589 - val_accuracy: 0.5822\n",
            "Epoch 3/15\n",
            "625/625 [==============================] - 2s 3ms/step - loss: 1.1390 - accuracy: 0.6375 - val_loss: 1.0670 - val_accuracy: 0.6595\n",
            "Epoch 4/15\n",
            "625/625 [==============================] - 2s 3ms/step - loss: 1.0067 - accuracy: 0.6759 - val_loss: 0.9769 - val_accuracy: 0.6819\n",
            "Epoch 5/15\n",
            "625/625 [==============================] - 2s 3ms/step - loss: 0.9368 - accuracy: 0.6970 - val_loss: 0.9591 - val_accuracy: 0.7007\n",
            "Epoch 6/15\n",
            "625/625 [==============================] - 2s 3ms/step - loss: 0.8943 - accuracy: 0.7076 - val_loss: 0.8902 - val_accuracy: 0.7099\n",
            "Epoch 7/15\n",
            "625/625 [==============================] - 2s 3ms/step - loss: 0.8669 - accuracy: 0.7170 - val_loss: 0.9041 - val_accuracy: 0.7237\n",
            "Epoch 8/15\n",
            "625/625 [==============================] - 2s 3ms/step - loss: 0.8412 - accuracy: 0.7267 - val_loss: 0.8672 - val_accuracy: 0.7192\n",
            "Epoch 9/15\n",
            "625/625 [==============================] - 2s 3ms/step - loss: 0.8236 - accuracy: 0.7311 - val_loss: 0.8541 - val_accuracy: 0.7314\n",
            "Epoch 10/15\n",
            "625/625 [==============================] - 2s 3ms/step - loss: 0.8102 - accuracy: 0.7381 - val_loss: 0.8603 - val_accuracy: 0.7300\n",
            "Epoch 11/15\n",
            "625/625 [==============================] - 2s 3ms/step - loss: 0.7995 - accuracy: 0.7427 - val_loss: 0.8241 - val_accuracy: 0.7362\n",
            "Epoch 12/15\n",
            "625/625 [==============================] - 2s 3ms/step - loss: 0.7821 - accuracy: 0.7499 - val_loss: 0.8272 - val_accuracy: 0.7427\n",
            "Epoch 13/15\n",
            "625/625 [==============================] - 2s 3ms/step - loss: 0.7693 - accuracy: 0.7571 - val_loss: 0.8384 - val_accuracy: 0.7475\n",
            "Epoch 14/15\n",
            "625/625 [==============================] - 2s 3ms/step - loss: 0.7602 - accuracy: 0.7613 - val_loss: 0.7937 - val_accuracy: 0.7601\n",
            "Epoch 15/15\n",
            "625/625 [==============================] - 2s 3ms/step - loss: 0.7476 - accuracy: 0.7693 - val_loss: 0.8033 - val_accuracy: 0.7618\n"
          ],
          "name": "stdout"
        }
      ]
    },
    {
      "cell_type": "code",
      "metadata": {
        "id": "htkVQ2wvHwBh",
        "outputId": "e481ff15-7079-4203-f97d-5873f5df9f4a",
        "colab": {
          "base_uri": "https://localhost:8080/"
        }
      },
      "source": [
        "model = create_model()\n",
        "\n",
        "bt_64 = model.fit(\n",
        "  X_train, y_train,\n",
        "  epochs=15,\n",
        "  batch_size=64,\n",
        "  validation_data=(X_test, y_test)\n",
        ")"
      ],
      "execution_count": 12,
      "outputs": [
        {
          "output_type": "stream",
          "text": [
            "Epoch 1/15\n",
            "1250/1250 [==============================] - 3s 2ms/step - loss: 2.7792 - accuracy: 0.3121 - val_loss: 1.4693 - val_accuracy: 0.4838\n",
            "Epoch 2/15\n",
            "1250/1250 [==============================] - 2s 2ms/step - loss: 1.3450 - accuracy: 0.5310 - val_loss: 1.2627 - val_accuracy: 0.5551\n",
            "Epoch 3/15\n",
            "1250/1250 [==============================] - 2s 2ms/step - loss: 1.2140 - accuracy: 0.5829 - val_loss: 1.1647 - val_accuracy: 0.6089\n",
            "Epoch 4/15\n",
            "1250/1250 [==============================] - 2s 2ms/step - loss: 1.1366 - accuracy: 0.6147 - val_loss: 1.1169 - val_accuracy: 0.6362\n",
            "Epoch 5/15\n",
            "1250/1250 [==============================] - 3s 2ms/step - loss: 1.0951 - accuracy: 0.6316 - val_loss: 1.1087 - val_accuracy: 0.6452\n",
            "Epoch 6/15\n",
            "1250/1250 [==============================] - 3s 3ms/step - loss: 1.0650 - accuracy: 0.6422 - val_loss: 1.0552 - val_accuracy: 0.6598\n",
            "Epoch 7/15\n",
            "1250/1250 [==============================] - 3s 3ms/step - loss: 1.0420 - accuracy: 0.6509 - val_loss: 1.0325 - val_accuracy: 0.6540\n",
            "Epoch 8/15\n",
            "1250/1250 [==============================] - 3s 3ms/step - loss: 1.0202 - accuracy: 0.6645 - val_loss: 1.0324 - val_accuracy: 0.6730\n",
            "Epoch 9/15\n",
            "1250/1250 [==============================] - 3s 2ms/step - loss: 1.0005 - accuracy: 0.6709 - val_loss: 1.0704 - val_accuracy: 0.6798\n",
            "Epoch 10/15\n",
            "1250/1250 [==============================] - 4s 3ms/step - loss: 0.9928 - accuracy: 0.6787 - val_loss: 0.9924 - val_accuracy: 0.6855\n",
            "Epoch 11/15\n",
            "1250/1250 [==============================] - 3s 3ms/step - loss: 0.9699 - accuracy: 0.6921 - val_loss: 1.0255 - val_accuracy: 0.6687\n",
            "Epoch 12/15\n",
            "1250/1250 [==============================] - 4s 3ms/step - loss: 0.9604 - accuracy: 0.6898 - val_loss: 1.0054 - val_accuracy: 0.6753\n",
            "Epoch 13/15\n",
            "1250/1250 [==============================] - 4s 3ms/step - loss: 0.9522 - accuracy: 0.6967 - val_loss: 1.0033 - val_accuracy: 0.6888\n",
            "Epoch 14/15\n",
            "1250/1250 [==============================] - 4s 3ms/step - loss: 0.9496 - accuracy: 0.6970 - val_loss: 0.9476 - val_accuracy: 0.7060\n",
            "Epoch 15/15\n",
            "1250/1250 [==============================] - 3s 3ms/step - loss: 0.9360 - accuracy: 0.7020 - val_loss: 1.0129 - val_accuracy: 0.6847\n"
          ],
          "name": "stdout"
        }
      ]
    },
    {
      "cell_type": "code",
      "metadata": {
        "id": "WnUVh1DKH6hx",
        "outputId": "e4f5c0d5-2c0f-4f83-ee31-ae3f671776ab",
        "colab": {
          "base_uri": "https://localhost:8080/"
        }
      },
      "source": [
        "model = create_model()\n",
        "\n",
        "bt_16 = model.fit(\n",
        "  X_train, y_train,\n",
        "  epochs=15,\n",
        "  batch_size=16,\n",
        "  validation_data=(X_test, y_test)\n",
        ")"
      ],
      "execution_count": 14,
      "outputs": [
        {
          "output_type": "stream",
          "text": [
            "Epoch 1/15\n",
            "5000/5000 [==============================] - 8s 2ms/step - loss: 1.8687 - accuracy: 0.4493 - val_loss: 1.3045 - val_accuracy: 0.5273\n",
            "Epoch 2/15\n",
            "5000/5000 [==============================] - 7s 1ms/step - loss: 1.3009 - accuracy: 0.5429 - val_loss: 1.2131 - val_accuracy: 0.5694\n",
            "Epoch 3/15\n",
            "5000/5000 [==============================] - 7s 1ms/step - loss: 1.2313 - accuracy: 0.5692 - val_loss: 1.2095 - val_accuracy: 0.5743\n",
            "Epoch 4/15\n",
            "5000/5000 [==============================] - 7s 1ms/step - loss: 1.1853 - accuracy: 0.5866 - val_loss: 1.1538 - val_accuracy: 0.6011\n",
            "Epoch 5/15\n",
            "5000/5000 [==============================] - 7s 1ms/step - loss: 1.1363 - accuracy: 0.6066 - val_loss: 1.1279 - val_accuracy: 0.6172\n",
            "Epoch 6/15\n",
            "5000/5000 [==============================] - 8s 2ms/step - loss: 1.0785 - accuracy: 0.6320 - val_loss: 1.0512 - val_accuracy: 0.6553\n",
            "Epoch 7/15\n",
            "5000/5000 [==============================] - 7s 1ms/step - loss: 1.0202 - accuracy: 0.6631 - val_loss: 1.0451 - val_accuracy: 0.6528\n",
            "Epoch 8/15\n",
            "5000/5000 [==============================] - 7s 1ms/step - loss: 0.9908 - accuracy: 0.6744 - val_loss: 0.9820 - val_accuracy: 0.6859\n",
            "Epoch 9/15\n",
            "5000/5000 [==============================] - 7s 1ms/step - loss: 0.9631 - accuracy: 0.6865 - val_loss: 0.9564 - val_accuracy: 0.6952\n",
            "Epoch 10/15\n",
            "5000/5000 [==============================] - 9s 2ms/step - loss: 0.9362 - accuracy: 0.6942 - val_loss: 0.9400 - val_accuracy: 0.6934\n",
            "Epoch 11/15\n",
            "5000/5000 [==============================] - 9s 2ms/step - loss: 0.9217 - accuracy: 0.7000 - val_loss: 0.9309 - val_accuracy: 0.7014\n",
            "Epoch 12/15\n",
            "5000/5000 [==============================] - 7s 1ms/step - loss: 0.9187 - accuracy: 0.7049 - val_loss: 0.9342 - val_accuracy: 0.7158\n",
            "Epoch 13/15\n",
            "5000/5000 [==============================] - 7s 1ms/step - loss: 0.9155 - accuracy: 0.7047 - val_loss: 0.9290 - val_accuracy: 0.7141\n",
            "Epoch 14/15\n",
            "5000/5000 [==============================] - 7s 1ms/step - loss: 0.9111 - accuracy: 0.7070 - val_loss: 0.9373 - val_accuracy: 0.7176\n",
            "Epoch 15/15\n",
            "5000/5000 [==============================] - 7s 1ms/step - loss: 0.9057 - accuracy: 0.7162 - val_loss: 0.9233 - val_accuracy: 0.7226\n"
          ],
          "name": "stdout"
        }
      ]
    },
    {
      "cell_type": "code",
      "metadata": {
        "id": "Lg7kVfl0H1ft",
        "outputId": "23b4aaa9-fb34-4d9c-9cb7-106c60976de3",
        "colab": {
          "base_uri": "https://localhost:8080/"
        }
      },
      "source": [
        "\n",
        "model = create_model()\n",
        "\n",
        "bt_8 = model.fit(\n",
        "  X_train, y_train,\n",
        "  epochs=15,\n",
        "  batch_size=8,\n",
        "  validation_data=(X_test, y_test)\n",
        ")"
      ],
      "execution_count": 13,
      "outputs": [
        {
          "output_type": "stream",
          "text": [
            "Epoch 1/15\n",
            "10000/10000 [==============================] - 15s 1ms/step - loss: 1.7922 - accuracy: 0.4349 - val_loss: 1.3992 - val_accuracy: 0.5019\n",
            "Epoch 2/15\n",
            "10000/10000 [==============================] - 14s 1ms/step - loss: 1.3417 - accuracy: 0.5342 - val_loss: 1.2765 - val_accuracy: 0.5283\n",
            "Epoch 3/15\n",
            "10000/10000 [==============================] - 14s 1ms/step - loss: 1.1286 - accuracy: 0.6225 - val_loss: 1.0204 - val_accuracy: 0.6730\n",
            "Epoch 4/15\n",
            "10000/10000 [==============================] - 14s 1ms/step - loss: 0.9715 - accuracy: 0.6894 - val_loss: 0.9236 - val_accuracy: 0.7042\n",
            "Epoch 5/15\n",
            "10000/10000 [==============================] - 14s 1ms/step - loss: 0.9381 - accuracy: 0.7036 - val_loss: 0.9218 - val_accuracy: 0.7121\n",
            "Epoch 6/15\n",
            "10000/10000 [==============================] - 14s 1ms/step - loss: 0.9262 - accuracy: 0.7087 - val_loss: 0.9071 - val_accuracy: 0.7179\n",
            "Epoch 7/15\n",
            "10000/10000 [==============================] - 16s 2ms/step - loss: 0.9080 - accuracy: 0.7150 - val_loss: 0.9262 - val_accuracy: 0.7111\n",
            "Epoch 8/15\n",
            "10000/10000 [==============================] - 15s 1ms/step - loss: 0.9011 - accuracy: 0.7190 - val_loss: 0.8900 - val_accuracy: 0.7248\n",
            "Epoch 9/15\n",
            "10000/10000 [==============================] - 15s 1ms/step - loss: 0.8987 - accuracy: 0.7161 - val_loss: 0.9394 - val_accuracy: 0.7013\n",
            "Epoch 10/15\n",
            "10000/10000 [==============================] - 15s 1ms/step - loss: 0.8951 - accuracy: 0.7151 - val_loss: 0.9051 - val_accuracy: 0.7183\n",
            "Epoch 11/15\n",
            "10000/10000 [==============================] - 15s 1ms/step - loss: 0.8897 - accuracy: 0.7155 - val_loss: 0.9133 - val_accuracy: 0.7080\n",
            "Epoch 12/15\n",
            "10000/10000 [==============================] - 14s 1ms/step - loss: 0.8857 - accuracy: 0.7201 - val_loss: 0.8937 - val_accuracy: 0.7110\n",
            "Epoch 13/15\n",
            "10000/10000 [==============================] - 14s 1ms/step - loss: 0.8778 - accuracy: 0.7182 - val_loss: 0.9018 - val_accuracy: 0.7064\n",
            "Epoch 14/15\n",
            "10000/10000 [==============================] - 14s 1ms/step - loss: 0.8888 - accuracy: 0.7121 - val_loss: 0.9138 - val_accuracy: 0.7052\n",
            "Epoch 15/15\n",
            "10000/10000 [==============================] - 14s 1ms/step - loss: 0.8828 - accuracy: 0.7134 - val_loss: 0.9145 - val_accuracy: 0.7119\n"
          ],
          "name": "stdout"
        }
      ]
    },
    {
      "cell_type": "code",
      "metadata": {
        "id": "npRK89UfILko",
        "outputId": "2c212f21-2b18-4374-aba9-f3c9564fbfca",
        "colab": {
          "base_uri": "https://localhost:8080/",
          "height": 204
        }
      },
      "source": [
        "import seaborn as sns\n",
        "\n",
        "batch_sizes = []\n",
        "\n",
        "for exp, result in zip([bt_8, bt_16, bt_32,bt_64,bt_128], [\"8_\", \"16_\", \"32_\", \"64__\", \"128__\"]):\n",
        "    df = pd.DataFrame.from_dict(exp.history)\n",
        "    df['epoch'] = df.index.values\n",
        "    df['batch_Size'] = result\n",
        "    batch_sizes.append(df)\n",
        "\n",
        "df = pd.concat(batch_sizes)\n",
        "df['batch_Size'] = df['batch_Size'].astype('str')\n",
        "df.head()"
      ],
      "execution_count": 16,
      "outputs": [
        {
          "output_type": "execute_result",
          "data": {
            "text/html": [
              "<div>\n",
              "<style scoped>\n",
              "    .dataframe tbody tr th:only-of-type {\n",
              "        vertical-align: middle;\n",
              "    }\n",
              "\n",
              "    .dataframe tbody tr th {\n",
              "        vertical-align: top;\n",
              "    }\n",
              "\n",
              "    .dataframe thead th {\n",
              "        text-align: right;\n",
              "    }\n",
              "</style>\n",
              "<table border=\"1\" class=\"dataframe\">\n",
              "  <thead>\n",
              "    <tr style=\"text-align: right;\">\n",
              "      <th></th>\n",
              "      <th>loss</th>\n",
              "      <th>accuracy</th>\n",
              "      <th>val_loss</th>\n",
              "      <th>val_accuracy</th>\n",
              "      <th>epoch</th>\n",
              "      <th>batch_Size</th>\n",
              "    </tr>\n",
              "  </thead>\n",
              "  <tbody>\n",
              "    <tr>\n",
              "      <th>0</th>\n",
              "      <td>1.792225</td>\n",
              "      <td>0.434938</td>\n",
              "      <td>1.399196</td>\n",
              "      <td>0.50190</td>\n",
              "      <td>0</td>\n",
              "      <td>8_</td>\n",
              "    </tr>\n",
              "    <tr>\n",
              "      <th>1</th>\n",
              "      <td>1.341687</td>\n",
              "      <td>0.534200</td>\n",
              "      <td>1.276543</td>\n",
              "      <td>0.52830</td>\n",
              "      <td>1</td>\n",
              "      <td>8_</td>\n",
              "    </tr>\n",
              "    <tr>\n",
              "      <th>2</th>\n",
              "      <td>1.128622</td>\n",
              "      <td>0.622463</td>\n",
              "      <td>1.020386</td>\n",
              "      <td>0.67305</td>\n",
              "      <td>2</td>\n",
              "      <td>8_</td>\n",
              "    </tr>\n",
              "    <tr>\n",
              "      <th>3</th>\n",
              "      <td>0.971510</td>\n",
              "      <td>0.689350</td>\n",
              "      <td>0.923624</td>\n",
              "      <td>0.70415</td>\n",
              "      <td>3</td>\n",
              "      <td>8_</td>\n",
              "    </tr>\n",
              "    <tr>\n",
              "      <th>4</th>\n",
              "      <td>0.938142</td>\n",
              "      <td>0.703600</td>\n",
              "      <td>0.921806</td>\n",
              "      <td>0.71210</td>\n",
              "      <td>4</td>\n",
              "      <td>8_</td>\n",
              "    </tr>\n",
              "  </tbody>\n",
              "</table>\n",
              "</div>"
            ],
            "text/plain": [
              "       loss  accuracy  val_loss  val_accuracy  epoch batch_Size\n",
              "0  1.792225  0.434938  1.399196       0.50190      0         8_\n",
              "1  1.341687  0.534200  1.276543       0.52830      1         8_\n",
              "2  1.128622  0.622463  1.020386       0.67305      2         8_\n",
              "3  0.971510  0.689350  0.923624       0.70415      3         8_\n",
              "4  0.938142  0.703600  0.921806       0.71210      4         8_"
            ]
          },
          "metadata": {
            "tags": []
          },
          "execution_count": 16
        }
      ]
    },
    {
      "cell_type": "code",
      "metadata": {
        "id": "dxmglVndIb2u",
        "outputId": "235e7df6-9006-420c-949b-ebc3581328ef",
        "colab": {
          "base_uri": "https://localhost:8080/",
          "height": 279
        }
      },
      "source": [
        "sns.lineplot(x='epoch', y='val_accuracy', hue='batch_Size', data=df);"
      ],
      "execution_count": 19,
      "outputs": [
        {
          "output_type": "display_data",
          "data": {
            "image/png": "[encoded data removed]",
            "text/plain": [
              "<Figure size 432x288 with 1 Axes>"
            ]
          },
          "metadata": {
            "tags": [],
            "needs_background": "light"
          }
        }
      ]
    },
    {
      "cell_type": "markdown",
      "metadata": {
        "id": "8b-r70o8p2Dm"
      },
      "source": [
        "### Experiment with Learning Rate\n",
        "* Run 5 experiments with various learning rate magnitudes: 1, .1, .01, .001, .0001.\n",
        "* Use the \"best\" batch size from the previous experiment\n",
        "* Visualize the results\n",
        "* Write up an analysis of the experiments and select the \"best\" performing model among your experiments. Make sure to compare against the previous experiments and your model's performance yesterday. "
      ]
    },
    {
      "cell_type": "code",
      "metadata": {
        "id": "_SA144xx8Luf",
        "outputId": "af82f193-16e5-461c-9401-68abfecfa02d",
        "colab": {
          "base_uri": "https://localhost:8080/"
        }
      },
      "source": [
        "model = create_model(lr=0.25)\n",
        "\n",
        "lr_lowest = model.fit(\n",
        "  X_train, y_train,\n",
        "  epochs=15,\n",
        "  batch_size=32,\n",
        "  validation_data=(X_test, y_test)\n",
        ")"
      ],
      "execution_count": 27,
      "outputs": [
        {
          "output_type": "stream",
          "text": [
            "Epoch 1/15\n",
            "2500/2500 [==============================] - 4s 2ms/step - loss: 18.5826 - accuracy: 0.1008 - val_loss: 6.5064 - val_accuracy: 0.0993\n",
            "Epoch 2/15\n",
            "2500/2500 [==============================] - 4s 2ms/step - loss: 5.8232 - accuracy: 0.1015 - val_loss: 2.3316 - val_accuracy: 0.0989\n",
            "Epoch 3/15\n",
            "2500/2500 [==============================] - 4s 2ms/step - loss: 2.3353 - accuracy: 0.0979 - val_loss: 2.3637 - val_accuracy: 0.1002\n",
            "Epoch 4/15\n",
            "2500/2500 [==============================] - 4s 2ms/step - loss: 2.3326 - accuracy: 0.1000 - val_loss: 2.3523 - val_accuracy: 0.0989\n",
            "Epoch 5/15\n",
            "2500/2500 [==============================] - 4s 2ms/step - loss: 2.3323 - accuracy: 0.1002 - val_loss: 2.3305 - val_accuracy: 0.1007\n",
            "Epoch 6/15\n",
            "2500/2500 [==============================] - 4s 2ms/step - loss: 2.3318 - accuracy: 0.1002 - val_loss: 2.3504 - val_accuracy: 0.0993\n",
            "Epoch 7/15\n",
            "2500/2500 [==============================] - 4s 2ms/step - loss: 2.3334 - accuracy: 0.1018 - val_loss: 2.3491 - val_accuracy: 0.0994\n",
            "Epoch 8/15\n",
            "2500/2500 [==============================] - 5s 2ms/step - loss: 2.3323 - accuracy: 0.1006 - val_loss: 2.3138 - val_accuracy: 0.1001\n",
            "Epoch 9/15\n",
            "2500/2500 [==============================] - 5s 2ms/step - loss: 2.3310 - accuracy: 0.1014 - val_loss: 2.3307 - val_accuracy: 0.1002\n",
            "Epoch 10/15\n",
            "2500/2500 [==============================] - 5s 2ms/step - loss: 2.3337 - accuracy: 0.0998 - val_loss: 2.3233 - val_accuracy: 0.0993\n",
            "Epoch 11/15\n",
            "2500/2500 [==============================] - 4s 2ms/step - loss: 2.3327 - accuracy: 0.0979 - val_loss: 2.3162 - val_accuracy: 0.1001\n",
            "Epoch 12/15\n",
            "2500/2500 [==============================] - 4s 2ms/step - loss: 2.3333 - accuracy: 0.0982 - val_loss: 2.3081 - val_accuracy: 0.1001\n",
            "Epoch 13/15\n",
            "2500/2500 [==============================] - 4s 2ms/step - loss: 2.3335 - accuracy: 0.0997 - val_loss: 2.3502 - val_accuracy: 0.1001\n",
            "Epoch 14/15\n",
            "2500/2500 [==============================] - 5s 2ms/step - loss: 2.3320 - accuracy: 0.0987 - val_loss: 2.3236 - val_accuracy: 0.1007\n",
            "Epoch 15/15\n",
            "2500/2500 [==============================] - 5s 2ms/step - loss: 2.3318 - accuracy: 0.0999 - val_loss: 2.3419 - val_accuracy: 0.1001\n"
          ],
          "name": "stdout"
        }
      ]
    },
    {
      "cell_type": "code",
      "metadata": {
        "id": "xkYGJz41IpVS",
        "outputId": "6b844734-c756-45a5-bfae-1a5e3838477d",
        "colab": {
          "base_uri": "https://localhost:8080/"
        }
      },
      "source": [
        "model = create_model(lr=0.5)\n",
        "\n",
        "lr_low = model.fit(\n",
        "  X_train, y_train,\n",
        "  epochs=15,\n",
        "  batch_size=32,\n",
        "  validation_data=(X_test, y_test)\n",
        ")"
      ],
      "execution_count": 28,
      "outputs": [
        {
          "output_type": "stream",
          "text": [
            "Epoch 1/15\n",
            "2500/2500 [==============================] - 4s 2ms/step - loss: 77.2767 - accuracy: 0.0996 - val_loss: 2.6456 - val_accuracy: 0.1001\n",
            "Epoch 2/15\n",
            "2500/2500 [==============================] - 4s 2ms/step - loss: 9.2246 - accuracy: 0.0969 - val_loss: 2.3477 - val_accuracy: 0.1019\n",
            "Epoch 3/15\n",
            "2500/2500 [==============================] - 4s 2ms/step - loss: 2.3613 - accuracy: 0.0986 - val_loss: 2.3443 - val_accuracy: 0.0988\n",
            "Epoch 4/15\n",
            "2500/2500 [==============================] - 4s 2ms/step - loss: 2.3608 - accuracy: 0.0992 - val_loss: 2.3291 - val_accuracy: 0.1019\n",
            "Epoch 5/15\n",
            "2500/2500 [==============================] - 4s 2ms/step - loss: 2.3602 - accuracy: 0.0996 - val_loss: 2.3462 - val_accuracy: 0.1000\n",
            "Epoch 6/15\n",
            "2500/2500 [==============================] - 4s 2ms/step - loss: 2.3598 - accuracy: 0.1002 - val_loss: 2.3696 - val_accuracy: 0.0996\n",
            "Epoch 7/15\n",
            "2500/2500 [==============================] - 4s 2ms/step - loss: 2.3612 - accuracy: 0.1001 - val_loss: 2.3398 - val_accuracy: 0.1019\n",
            "Epoch 8/15\n",
            "2500/2500 [==============================] - 4s 2ms/step - loss: 2.3654 - accuracy: 0.0983 - val_loss: 2.3881 - val_accuracy: 0.1019\n",
            "Epoch 9/15\n",
            "2500/2500 [==============================] - 4s 2ms/step - loss: 2.3587 - accuracy: 0.1003 - val_loss: 2.3610 - val_accuracy: 0.1002\n",
            "Epoch 10/15\n",
            "2500/2500 [==============================] - 4s 2ms/step - loss: 2.3612 - accuracy: 0.1001 - val_loss: 2.3709 - val_accuracy: 0.0996\n",
            "Epoch 11/15\n",
            "2500/2500 [==============================] - 4s 2ms/step - loss: 2.3589 - accuracy: 0.1011 - val_loss: 2.3410 - val_accuracy: 0.1019\n",
            "Epoch 12/15\n",
            "2500/2500 [==============================] - 4s 2ms/step - loss: 2.3620 - accuracy: 0.0974 - val_loss: 2.3582 - val_accuracy: 0.1002\n",
            "Epoch 13/15\n",
            "2500/2500 [==============================] - 4s 2ms/step - loss: 2.3603 - accuracy: 0.0998 - val_loss: 2.3562 - val_accuracy: 0.0993\n",
            "Epoch 14/15\n",
            "2500/2500 [==============================] - 4s 2ms/step - loss: 2.3591 - accuracy: 0.1008 - val_loss: 2.3444 - val_accuracy: 0.1019\n",
            "Epoch 15/15\n",
            "2500/2500 [==============================] - 4s 2ms/step - loss: 2.3611 - accuracy: 0.1002 - val_loss: 2.3587 - val_accuracy: 0.1000\n"
          ],
          "name": "stdout"
        }
      ]
    },
    {
      "cell_type": "code",
      "metadata": {
        "id": "luSOeq-oIqlH",
        "outputId": "c3e7df87-75a2-486b-9d52-eb01d94f7784",
        "colab": {
          "base_uri": "https://localhost:8080/"
        }
      },
      "source": [
        "model = create_model(lr=0.75)\n",
        "\n",
        "lr_med = model.fit(\n",
        "  X_train, y_train,\n",
        "  epochs=15,\n",
        "  batch_size=32,\n",
        "  validation_data=(X_test, y_test)\n",
        ")"
      ],
      "execution_count": 29,
      "outputs": [
        {
          "output_type": "stream",
          "text": [
            "Epoch 1/15\n",
            "2500/2500 [==============================] - 4s 2ms/step - loss: 746.3687 - accuracy: 0.0999 - val_loss: 68.6290 - val_accuracy: 0.0992\n",
            "Epoch 2/15\n",
            "2500/2500 [==============================] - 4s 2ms/step - loss: 435.2841 - accuracy: 0.1005 - val_loss: 162.5449 - val_accuracy: 0.1001\n",
            "Epoch 3/15\n",
            "2500/2500 [==============================] - 4s 2ms/step - loss: 17.7560 - accuracy: 0.1019 - val_loss: 162.6418 - val_accuracy: 0.0992\n",
            "Epoch 4/15\n",
            "2500/2500 [==============================] - 4s 2ms/step - loss: 2.3899 - accuracy: 0.0996 - val_loss: 162.5155 - val_accuracy: 0.1001\n",
            "Epoch 5/15\n",
            "2500/2500 [==============================] - 4s 2ms/step - loss: 2.3861 - accuracy: 0.0985 - val_loss: 162.5054 - val_accuracy: 0.0988\n",
            "Epoch 6/15\n",
            "2500/2500 [==============================] - 5s 2ms/step - loss: 2.3900 - accuracy: 0.0982 - val_loss: 162.5052 - val_accuracy: 0.1001\n",
            "Epoch 7/15\n",
            "2500/2500 [==============================] - 5s 2ms/step - loss: 2.3886 - accuracy: 0.0994 - val_loss: 162.5780 - val_accuracy: 0.0988\n",
            "Epoch 8/15\n",
            "2500/2500 [==============================] - 4s 2ms/step - loss: 2.3874 - accuracy: 0.0992 - val_loss: 162.5867 - val_accuracy: 0.1000\n",
            "Epoch 9/15\n",
            "2500/2500 [==============================] - 4s 2ms/step - loss: 2.3848 - accuracy: 0.1003 - val_loss: 162.5757 - val_accuracy: 0.1006\n",
            "Epoch 10/15\n",
            "2500/2500 [==============================] - 4s 2ms/step - loss: 2.3874 - accuracy: 0.0995 - val_loss: 162.6416 - val_accuracy: 0.0996\n",
            "Epoch 11/15\n",
            "2500/2500 [==============================] - 4s 2ms/step - loss: 2.3870 - accuracy: 0.0998 - val_loss: 162.5423 - val_accuracy: 0.0993\n",
            "Epoch 12/15\n",
            "2500/2500 [==============================] - 4s 2ms/step - loss: 2.3885 - accuracy: 0.0995 - val_loss: 162.6427 - val_accuracy: 0.1001\n",
            "Epoch 13/15\n",
            "2500/2500 [==============================] - 4s 2ms/step - loss: 2.3881 - accuracy: 0.1013 - val_loss: 162.5094 - val_accuracy: 0.1006\n",
            "Epoch 14/15\n",
            "2500/2500 [==============================] - 4s 2ms/step - loss: 2.3846 - accuracy: 0.0989 - val_loss: 162.5160 - val_accuracy: 0.1001\n",
            "Epoch 15/15\n",
            "2500/2500 [==============================] - 4s 2ms/step - loss: 2.3832 - accuracy: 0.0987 - val_loss: 162.6042 - val_accuracy: 0.1019\n"
          ],
          "name": "stdout"
        }
      ]
    },
    {
      "cell_type": "code",
      "metadata": {
        "id": "0zX33kKyIr8T",
        "outputId": "2efc30f1-cac3-4458-b7f2-680cb5ac865d",
        "colab": {
          "base_uri": "https://localhost:8080/"
        }
      },
      "source": [
        "model = create_model(lr=0.8)\n",
        "\n",
        "lr_high = model.fit(\n",
        "  X_train, y_train,\n",
        "  epochs=15,\n",
        "  batch_size=32,\n",
        "  validation_data=(X_test, y_test)\n",
        ")"
      ],
      "execution_count": 30,
      "outputs": [
        {
          "output_type": "stream",
          "text": [
            "Epoch 1/15\n",
            "2500/2500 [==============================] - 4s 2ms/step - loss: 381.2614 - accuracy: 0.1009 - val_loss: 4077.7185 - val_accuracy: 0.1019\n",
            "Epoch 2/15\n",
            "2500/2500 [==============================] - 4s 2ms/step - loss: 459.8205 - accuracy: 0.1008 - val_loss: 704.0747 - val_accuracy: 0.0988\n",
            "Epoch 3/15\n",
            "2500/2500 [==============================] - 4s 2ms/step - loss: 2.3916 - accuracy: 0.0987 - val_loss: 704.1310 - val_accuracy: 0.0993\n",
            "Epoch 4/15\n",
            "2500/2500 [==============================] - 4s 2ms/step - loss: 2.3897 - accuracy: 0.0980 - val_loss: 704.0668 - val_accuracy: 0.0993\n",
            "Epoch 5/15\n",
            "2500/2500 [==============================] - 4s 2ms/step - loss: 2.3917 - accuracy: 0.0993 - val_loss: 704.1401 - val_accuracy: 0.1019\n",
            "Epoch 6/15\n",
            "2500/2500 [==============================] - 4s 2ms/step - loss: 2.3906 - accuracy: 0.1000 - val_loss: 704.0719 - val_accuracy: 0.0993\n",
            "Epoch 7/15\n",
            "2500/2500 [==============================] - 4s 2ms/step - loss: 2.3920 - accuracy: 0.0989 - val_loss: 704.1174 - val_accuracy: 0.1019\n",
            "Epoch 8/15\n",
            "2500/2500 [==============================] - 4s 2ms/step - loss: 2.3913 - accuracy: 0.1011 - val_loss: 704.1000 - val_accuracy: 0.0993\n",
            "Epoch 9/15\n",
            "2500/2500 [==============================] - 4s 2ms/step - loss: 2.3879 - accuracy: 0.1000 - val_loss: 704.1627 - val_accuracy: 0.1019\n",
            "Epoch 10/15\n",
            "2500/2500 [==============================] - 4s 2ms/step - loss: 2.3928 - accuracy: 0.1018 - val_loss: 704.1364 - val_accuracy: 0.1006\n",
            "Epoch 11/15\n",
            "2500/2500 [==============================] - 4s 2ms/step - loss: 2.3881 - accuracy: 0.1002 - val_loss: 704.1557 - val_accuracy: 0.0996\n",
            "Epoch 12/15\n",
            "2500/2500 [==============================] - 4s 2ms/step - loss: 2.3919 - accuracy: 0.1003 - val_loss: 704.1310 - val_accuracy: 0.1000\n",
            "Epoch 13/15\n",
            "2500/2500 [==============================] - 4s 2ms/step - loss: 2.3899 - accuracy: 0.1011 - val_loss: 704.1416 - val_accuracy: 0.0996\n",
            "Epoch 14/15\n",
            "2500/2500 [==============================] - 4s 2ms/step - loss: 2.3947 - accuracy: 0.1003 - val_loss: 704.1853 - val_accuracy: 0.1001\n",
            "Epoch 15/15\n",
            "2500/2500 [==============================] - 4s 2ms/step - loss: 2.3938 - accuracy: 0.1000 - val_loss: 704.1440 - val_accuracy: 0.0993\n"
          ],
          "name": "stdout"
        }
      ]
    },
    {
      "cell_type": "code",
      "metadata": {
        "id": "dNgY0yzEItgW",
        "outputId": "50df171e-6fbe-49c0-cc9d-742fc7fac21a",
        "colab": {
          "base_uri": "https://localhost:8080/"
        }
      },
      "source": [
        "model = create_model(lr=0.9)\n",
        "\n",
        "lr_highest = model.fit(\n",
        "  X_train, y_train,\n",
        "  epochs=15,\n",
        "  batch_size=32,\n",
        "  validation_data=(X_test, y_test)\n",
        ")"
      ],
      "execution_count": 31,
      "outputs": [
        {
          "output_type": "stream",
          "text": [
            "Epoch 1/15\n",
            "2500/2500 [==============================] - 4s 2ms/step - loss: 305.0936 - accuracy: 0.1011 - val_loss: 2.4007 - val_accuracy: 0.0996\n",
            "Epoch 2/15\n",
            "2500/2500 [==============================] - 4s 2ms/step - loss: 2.3984 - accuracy: 0.1000 - val_loss: 2.3897 - val_accuracy: 0.1001\n",
            "Epoch 3/15\n",
            "2500/2500 [==============================] - 4s 2ms/step - loss: 2.3980 - accuracy: 0.1010 - val_loss: 2.3608 - val_accuracy: 0.1002\n",
            "Epoch 4/15\n",
            "2500/2500 [==============================] - 4s 2ms/step - loss: 2.4038 - accuracy: 0.1008 - val_loss: 2.4159 - val_accuracy: 0.1000\n",
            "Epoch 5/15\n",
            "2500/2500 [==============================] - 4s 2ms/step - loss: 2.3996 - accuracy: 0.1027 - val_loss: 2.3463 - val_accuracy: 0.1001\n",
            "Epoch 6/15\n",
            "2500/2500 [==============================] - 4s 2ms/step - loss: 2.4005 - accuracy: 0.0992 - val_loss: 2.3883 - val_accuracy: 0.1001\n",
            "Epoch 7/15\n",
            "2500/2500 [==============================] - 4s 2ms/step - loss: 2.3991 - accuracy: 0.0992 - val_loss: 2.4379 - val_accuracy: 0.0993\n",
            "Epoch 8/15\n",
            "2500/2500 [==============================] - 5s 2ms/step - loss: 2.4021 - accuracy: 0.1012 - val_loss: 2.4128 - val_accuracy: 0.1019\n",
            "Epoch 9/15\n",
            "2500/2500 [==============================] - 6s 2ms/step - loss: 2.3960 - accuracy: 0.1006 - val_loss: 2.3801 - val_accuracy: 0.0996\n",
            "Epoch 10/15\n",
            "2500/2500 [==============================] - 5s 2ms/step - loss: 2.4012 - accuracy: 0.1000 - val_loss: 2.3200 - val_accuracy: 0.1019\n",
            "Epoch 11/15\n",
            "2500/2500 [==============================] - 5s 2ms/step - loss: 2.3987 - accuracy: 0.0994 - val_loss: 2.3797 - val_accuracy: 0.1000\n",
            "Epoch 12/15\n",
            "2500/2500 [==============================] - 5s 2ms/step - loss: 2.4036 - accuracy: 0.0990 - val_loss: 2.3661 - val_accuracy: 0.0993\n",
            "Epoch 13/15\n",
            "2500/2500 [==============================] - 4s 2ms/step - loss: 2.4002 - accuracy: 0.0985 - val_loss: 2.4522 - val_accuracy: 0.1001\n",
            "Epoch 14/15\n",
            "2500/2500 [==============================] - 4s 2ms/step - loss: 2.4037 - accuracy: 0.0985 - val_loss: 2.3689 - val_accuracy: 0.1002\n",
            "Epoch 15/15\n",
            "2500/2500 [==============================] - 4s 2ms/step - loss: 2.3947 - accuracy: 0.1005 - val_loss: 2.4272 - val_accuracy: 0.0996\n"
          ],
          "name": "stdout"
        }
      ]
    },
    {
      "cell_type": "code",
      "metadata": {
        "id": "inJ-P5BkIyrM",
        "outputId": "97e59a13-c59a-42c9-903e-2d4aa6b8417c",
        "colab": {
          "base_uri": "https://localhost:8080/",
          "height": 204
        }
      },
      "source": [
        "batch_sizes = []\n",
        "\n",
        "for exp, result in zip([lr_lowest, lr_low, lr_med, lr_high, lr_highest], [\".25\", \".50\", \".75\", \"0.80\", \"0.90\"]):\n",
        "    df = pd.DataFrame.from_dict(exp.history)\n",
        "    df['epoch'] = df.index.values\n",
        "    df['learning_rate'] = result\n",
        "    batch_sizes.append(df)\n",
        "\n",
        "df = pd.concat(batch_sizes)\n",
        "df['learning_rate'] = df['learning_rate'].astype('str')\n",
        "df.head()"
      ],
      "execution_count": 32,
      "outputs": [
        {
          "output_type": "execute_result",
          "data": {
            "text/html": [
              "<div>\n",
              "<style scoped>\n",
              "    .dataframe tbody tr th:only-of-type {\n",
              "        vertical-align: middle;\n",
              "    }\n",
              "\n",
              "    .dataframe tbody tr th {\n",
              "        vertical-align: top;\n",
              "    }\n",
              "\n",
              "    .dataframe thead th {\n",
              "        text-align: right;\n",
              "    }\n",
              "</style>\n",
              "<table border=\"1\" class=\"dataframe\">\n",
              "  <thead>\n",
              "    <tr style=\"text-align: right;\">\n",
              "      <th></th>\n",
              "      <th>loss</th>\n",
              "      <th>accuracy</th>\n",
              "      <th>val_loss</th>\n",
              "      <th>val_accuracy</th>\n",
              "      <th>epoch</th>\n",
              "      <th>learning_rate</th>\n",
              "    </tr>\n",
              "  </thead>\n",
              "  <tbody>\n",
              "    <tr>\n",
              "      <th>0</th>\n",
              "      <td>18.582613</td>\n",
              "      <td>0.100825</td>\n",
              "      <td>6.506365</td>\n",
              "      <td>0.09935</td>\n",
              "      <td>0</td>\n",
              "      <td>.25</td>\n",
              "    </tr>\n",
              "    <tr>\n",
              "      <th>1</th>\n",
              "      <td>5.823158</td>\n",
              "      <td>0.101550</td>\n",
              "      <td>2.331576</td>\n",
              "      <td>0.09895</td>\n",
              "      <td>1</td>\n",
              "      <td>.25</td>\n",
              "    </tr>\n",
              "    <tr>\n",
              "      <th>2</th>\n",
              "      <td>2.335285</td>\n",
              "      <td>0.097888</td>\n",
              "      <td>2.363734</td>\n",
              "      <td>0.10020</td>\n",
              "      <td>2</td>\n",
              "      <td>.25</td>\n",
              "    </tr>\n",
              "    <tr>\n",
              "      <th>3</th>\n",
              "      <td>2.332596</td>\n",
              "      <td>0.100000</td>\n",
              "      <td>2.352314</td>\n",
              "      <td>0.09895</td>\n",
              "      <td>3</td>\n",
              "      <td>.25</td>\n",
              "    </tr>\n",
              "    <tr>\n",
              "      <th>4</th>\n",
              "      <td>2.332273</td>\n",
              "      <td>0.100175</td>\n",
              "      <td>2.330550</td>\n",
              "      <td>0.10075</td>\n",
              "      <td>4</td>\n",
              "      <td>.25</td>\n",
              "    </tr>\n",
              "  </tbody>\n",
              "</table>\n",
              "</div>"
            ],
            "text/plain": [
              "        loss  accuracy  val_loss  val_accuracy  epoch learning_rate\n",
              "0  18.582613  0.100825  6.506365       0.09935      0           .25\n",
              "1   5.823158  0.101550  2.331576       0.09895      1           .25\n",
              "2   2.335285  0.097888  2.363734       0.10020      2           .25\n",
              "3   2.332596  0.100000  2.352314       0.09895      3           .25\n",
              "4   2.332273  0.100175  2.330550       0.10075      4           .25"
            ]
          },
          "metadata": {
            "tags": []
          },
          "execution_count": 32
        }
      ]
    },
    {
      "cell_type": "code",
      "metadata": {
        "id": "K0x1VZXhJCVQ",
        "outputId": "c17aef9e-5110-4e04-93a3-4e10be0dda7c",
        "colab": {
          "base_uri": "https://localhost:8080/",
          "height": 280
        }
      },
      "source": [
        "sns.lineplot(x='epoch', y='val_accuracy', hue='learning_rate', data=df);"
      ],
      "execution_count": 33,
      "outputs": [
        {
          "output_type": "display_data",
          "data": {
            "image/png": "[encoded data removed]",
            "text/plain": [
              "<Figure size 432x288 with 1 Axes>"
            ]
          },
          "metadata": {
            "tags": [],
            "needs_background": "light"
          }
        }
      ]
    },
    {
      "cell_type": "markdown",
      "metadata": {
        "id": "gxMtSRhV9Q7I"
      },
      "source": [
        "### Experiment with different Optimizers\n",
        "* Run 5 experiments with various optimizers available in TensorFlow. See list [here](https://www.tensorflow.org/api_docs/python/tf/keras/optimizers)\n",
        "* Visualize the results\n",
        "* Write up an analysis of the experiments and select the \"best\" performing model among your experiments. Make sure to compare against the previous experiments and your model's performance yesterday.\n",
        "* Repeat the experiment combining Learning Rate and different optimizers. Does the best performing model change? "
      ]
    },
    {
      "cell_type": "code",
      "metadata": {
        "id": "ujLuzdNA91ip",
        "outputId": "38673c8a-c86d-44c4-89b8-313ff4b952c3",
        "colab": {
          "base_uri": "https://localhost:8080/"
        }
      },
      "source": [
        "from tensorflow.keras.optimizers import RMSprop\n",
        "from tensorflow.keras.optimizers import Adadelta\n",
        "from tensorflow.keras.optimizers import Adagrad\n",
        "from tensorflow.keras.optimizers import Adamax\n",
        "from tensorflow.keras.optimizers import Ftrl\n",
        "from tensorflow.keras.optimizers import Nadam\n",
        "\n",
        "\n",
        "def create_model2(opt, lr=0.001):\n",
        "  opt = opt(learning_rate=lr)\n",
        "  model = Sequential([\n",
        "                      Dense(32, activation='relu', input_dim=784),\n",
        "                      Dense(32, activation='relu'),\n",
        "                      Dense(10, activation='softmax')\n",
        "  ])\n",
        "  model.compile(optimizer=opt,\n",
        "                loss='sparse_categorical_crossentropy',\n",
        "                metrics=['accuracy'])\n",
        "  return model\n",
        "\n",
        "model = create_model2(RMSprop, lr=.001)\n",
        "\n",
        "RMSprop = model.fit(X_train, \n",
        "                       y_train,\n",
        "                       epochs=30,\n",
        "                       batch_size=16,\n",
        "                       validation_data=(X_test, y_test)\n",
        ")"
      ],
      "execution_count": 18,
      "outputs": [
        {
          "output_type": "stream",
          "text": [
            "Epoch 1/30\n",
            "5000/5000 [==============================] - 7s 1ms/step - loss: 1.7075 - accuracy: 0.5963 - val_loss: 1.1364 - val_accuracy: 0.6834\n",
            "Epoch 2/30\n",
            "5000/5000 [==============================] - 7s 1ms/step - loss: 1.1243 - accuracy: 0.7216 - val_loss: 1.1900 - val_accuracy: 0.7217\n",
            "Epoch 3/30\n",
            "5000/5000 [==============================] - 7s 1ms/step - loss: 1.0348 - accuracy: 0.7487 - val_loss: 1.0880 - val_accuracy: 0.7555\n",
            "Epoch 4/30\n",
            "5000/5000 [==============================] - 10s 2ms/step - loss: 0.9886 - accuracy: 0.7626 - val_loss: 0.9509 - val_accuracy: 0.7675\n",
            "Epoch 5/30\n",
            "5000/5000 [==============================] - 8s 2ms/step - loss: 0.9857 - accuracy: 0.7672 - val_loss: 1.0287 - val_accuracy: 0.7531\n",
            "Epoch 6/30\n",
            "5000/5000 [==============================] - 8s 2ms/step - loss: 0.9850 - accuracy: 0.7719 - val_loss: 1.0000 - val_accuracy: 0.7639\n",
            "Epoch 7/30\n",
            "5000/5000 [==============================] - 8s 2ms/step - loss: 0.9987 - accuracy: 0.7713 - val_loss: 1.1051 - val_accuracy: 0.7622\n",
            "Epoch 8/30\n",
            "5000/5000 [==============================] - 8s 2ms/step - loss: 0.9784 - accuracy: 0.7687 - val_loss: 0.9127 - val_accuracy: 0.7654\n",
            "Epoch 9/30\n",
            "5000/5000 [==============================] - 8s 2ms/step - loss: 0.9457 - accuracy: 0.7648 - val_loss: 0.9073 - val_accuracy: 0.7489\n",
            "Epoch 10/30\n",
            "5000/5000 [==============================] - 8s 2ms/step - loss: 1.0757 - accuracy: 0.7336 - val_loss: 1.1215 - val_accuracy: 0.7034\n",
            "Epoch 11/30\n",
            "5000/5000 [==============================] - 8s 2ms/step - loss: 1.2023 - accuracy: 0.7059 - val_loss: 1.4165 - val_accuracy: 0.7043\n",
            "Epoch 12/30\n",
            "5000/5000 [==============================] - 8s 2ms/step - loss: 1.3769 - accuracy: 0.6646 - val_loss: 1.3507 - val_accuracy: 0.6339\n",
            "Epoch 13/30\n",
            "5000/5000 [==============================] - 8s 2ms/step - loss: 1.4557 - accuracy: 0.6238 - val_loss: 1.6338 - val_accuracy: 0.6065\n",
            "Epoch 14/30\n",
            "5000/5000 [==============================] - 8s 2ms/step - loss: 1.6063 - accuracy: 0.5866 - val_loss: 2.1252 - val_accuracy: 0.5728\n",
            "Epoch 15/30\n",
            "5000/5000 [==============================] - 8s 2ms/step - loss: 1.8015 - accuracy: 0.5278 - val_loss: 1.9756 - val_accuracy: 0.5021\n",
            "Epoch 16/30\n",
            "5000/5000 [==============================] - 8s 2ms/step - loss: 1.9508 - accuracy: 0.4714 - val_loss: 1.9465 - val_accuracy: 0.4351\n",
            "Epoch 17/30\n",
            "5000/5000 [==============================] - 8s 2ms/step - loss: 1.9434 - accuracy: 0.4482 - val_loss: 2.1281 - val_accuracy: 0.4657\n",
            "Epoch 18/30\n",
            "5000/5000 [==============================] - 8s 2ms/step - loss: 2.0333 - accuracy: 0.4258 - val_loss: 2.1354 - val_accuracy: 0.4363\n",
            "Epoch 19/30\n",
            "5000/5000 [==============================] - 8s 2ms/step - loss: 2.0693 - accuracy: 0.4103 - val_loss: 3.0990 - val_accuracy: 0.4304\n",
            "Epoch 20/30\n",
            "5000/5000 [==============================] - 8s 2ms/step - loss: 2.1445 - accuracy: 0.3883 - val_loss: 2.2028 - val_accuracy: 0.4022\n",
            "Epoch 21/30\n",
            "5000/5000 [==============================] - 7s 1ms/step - loss: 2.1391 - accuracy: 0.3932 - val_loss: 2.3513 - val_accuracy: 0.3914\n",
            "Epoch 22/30\n",
            "5000/5000 [==============================] - 8s 2ms/step - loss: 2.1359 - accuracy: 0.3792 - val_loss: 2.4123 - val_accuracy: 0.3499\n",
            "Epoch 23/30\n",
            "5000/5000 [==============================] - 8s 2ms/step - loss: 2.1796 - accuracy: 0.3722 - val_loss: 2.4361 - val_accuracy: 0.3086\n",
            "Epoch 24/30\n",
            "5000/5000 [==============================] - 8s 2ms/step - loss: 2.1877 - accuracy: 0.3600 - val_loss: 2.1318 - val_accuracy: 0.3119\n",
            "Epoch 25/30\n",
            "5000/5000 [==============================] - 7s 1ms/step - loss: 2.2268 - accuracy: 0.3481 - val_loss: 2.3731 - val_accuracy: 0.3137\n",
            "Epoch 26/30\n",
            "5000/5000 [==============================] - 7s 1ms/step - loss: 2.1398 - accuracy: 0.3491 - val_loss: 2.2768 - val_accuracy: 0.2916\n",
            "Epoch 27/30\n",
            "5000/5000 [==============================] - 8s 2ms/step - loss: 2.1720 - accuracy: 0.3509 - val_loss: 2.5004 - val_accuracy: 0.3675\n",
            "Epoch 28/30\n",
            "5000/5000 [==============================] - 7s 1ms/step - loss: 2.2619 - accuracy: 0.3330 - val_loss: 2.2787 - val_accuracy: 0.3280\n",
            "Epoch 29/30\n",
            "5000/5000 [==============================] - 8s 2ms/step - loss: 2.2800 - accuracy: 0.3378 - val_loss: 3.1551 - val_accuracy: 0.3918\n",
            "Epoch 30/30\n",
            "5000/5000 [==============================] - 14s 3ms/step - loss: 2.1756 - accuracy: 0.3382 - val_loss: 2.5008 - val_accuracy: 0.2840\n"
          ],
          "name": "stdout"
        }
      ]
    },
    {
      "cell_type": "code",
      "metadata": {
        "id": "4kv5i_vxNfGY",
        "outputId": "6edc8f6a-bed3-4837-a4dd-538bb3418cb1",
        "colab": {
          "base_uri": "https://localhost:8080/"
        }
      },
      "source": [
        "model = create_model2(Adadelta, lr=.001)\n",
        "\n",
        "Adadelta = model.fit(X_train, \n",
        "                       y_train,\n",
        "                       epochs=30,\n",
        "                       batch_size=16,\n",
        "                       validation_data=(X_test, y_test)\n",
        ")"
      ],
      "execution_count": 34,
      "outputs": [
        {
          "output_type": "stream",
          "text": [
            "Epoch 1/30\n",
            "5000/5000 [==============================] - 7s 1ms/step - loss: 66.9039 - accuracy: 0.1110 - val_loss: 51.1111 - val_accuracy: 0.1235\n",
            "Epoch 2/30\n",
            "5000/5000 [==============================] - 7s 1ms/step - loss: 42.1439 - accuracy: 0.1356 - val_loss: 35.7613 - val_accuracy: 0.1444\n",
            "Epoch 3/30\n",
            "5000/5000 [==============================] - 7s 1ms/step - loss: 30.8395 - accuracy: 0.1575 - val_loss: 27.1055 - val_accuracy: 0.1606\n",
            "Epoch 4/30\n",
            "5000/5000 [==============================] - 7s 1ms/step - loss: 23.8718 - accuracy: 0.1761 - val_loss: 21.3550 - val_accuracy: 0.1761\n",
            "Epoch 5/30\n",
            "5000/5000 [==============================] - 7s 1ms/step - loss: 18.9338 - accuracy: 0.1906 - val_loss: 17.0907 - val_accuracy: 0.1921\n",
            "Epoch 6/30\n",
            "5000/5000 [==============================] - 7s 1ms/step - loss: 15.2020 - accuracy: 0.2022 - val_loss: 13.7981 - val_accuracy: 0.1998\n",
            "Epoch 7/30\n",
            "5000/5000 [==============================] - 7s 1ms/step - loss: 12.3169 - accuracy: 0.2085 - val_loss: 11.2421 - val_accuracy: 0.2041\n",
            "Epoch 8/30\n",
            "5000/5000 [==============================] - 7s 1ms/step - loss: 10.0809 - accuracy: 0.2101 - val_loss: 9.2464 - val_accuracy: 0.2047\n",
            "Epoch 9/30\n",
            "5000/5000 [==============================] - 7s 1ms/step - loss: 8.3241 - accuracy: 0.2064 - val_loss: 7.6682 - val_accuracy: 0.1973\n",
            "Epoch 10/30\n",
            "5000/5000 [==============================] - 7s 1ms/step - loss: 6.9478 - accuracy: 0.2005 - val_loss: 6.4518 - val_accuracy: 0.1901\n",
            "Epoch 11/30\n",
            "5000/5000 [==============================] - 7s 1ms/step - loss: 5.8919 - accuracy: 0.1940 - val_loss: 5.5250 - val_accuracy: 0.1834\n",
            "Epoch 12/30\n",
            "5000/5000 [==============================] - 7s 1ms/step - loss: 5.0955 - accuracy: 0.1854 - val_loss: 4.8253 - val_accuracy: 0.1750\n",
            "Epoch 13/30\n",
            "5000/5000 [==============================] - 7s 1ms/step - loss: 4.4953 - accuracy: 0.1800 - val_loss: 4.2944 - val_accuracy: 0.1776\n",
            "Epoch 14/30\n",
            "5000/5000 [==============================] - 7s 1ms/step - loss: 4.0421 - accuracy: 0.1816 - val_loss: 3.8936 - val_accuracy: 0.1788\n",
            "Epoch 15/30\n",
            "5000/5000 [==============================] - 7s 1ms/step - loss: 3.6968 - accuracy: 0.1805 - val_loss: 3.5859 - val_accuracy: 0.1763\n",
            "Epoch 16/30\n",
            "5000/5000 [==============================] - 7s 1ms/step - loss: 3.4297 - accuracy: 0.1788 - val_loss: 3.3477 - val_accuracy: 0.1738\n",
            "Epoch 17/30\n",
            "5000/5000 [==============================] - 7s 1ms/step - loss: 3.2231 - accuracy: 0.1772 - val_loss: 3.1621 - val_accuracy: 0.1736\n",
            "Epoch 18/30\n",
            "5000/5000 [==============================] - 7s 1ms/step - loss: 3.0593 - accuracy: 0.1759 - val_loss: 3.0145 - val_accuracy: 0.1746\n",
            "Epoch 19/30\n",
            "5000/5000 [==============================] - 9s 2ms/step - loss: 2.9285 - accuracy: 0.1787 - val_loss: 2.8967 - val_accuracy: 0.1780\n",
            "Epoch 20/30\n",
            "5000/5000 [==============================] - 8s 2ms/step - loss: 2.8237 - accuracy: 0.1881 - val_loss: 2.8006 - val_accuracy: 0.1981\n",
            "Epoch 21/30\n",
            "5000/5000 [==============================] - 7s 1ms/step - loss: 2.7388 - accuracy: 0.2040 - val_loss: 2.7225 - val_accuracy: 0.2023\n",
            "Epoch 22/30\n",
            "5000/5000 [==============================] - 7s 1ms/step - loss: 2.6698 - accuracy: 0.2067 - val_loss: 2.6579 - val_accuracy: 0.2042\n",
            "Epoch 23/30\n",
            "5000/5000 [==============================] - 7s 1ms/step - loss: 2.6122 - accuracy: 0.2089 - val_loss: 2.6035 - val_accuracy: 0.2060\n",
            "Epoch 24/30\n",
            "5000/5000 [==============================] - 7s 1ms/step - loss: 2.5636 - accuracy: 0.2104 - val_loss: 2.5573 - val_accuracy: 0.2072\n",
            "Epoch 25/30\n",
            "5000/5000 [==============================] - 7s 1ms/step - loss: 2.5217 - accuracy: 0.2124 - val_loss: 2.5173 - val_accuracy: 0.2088\n",
            "Epoch 26/30\n",
            "5000/5000 [==============================] - 7s 1ms/step - loss: 2.4853 - accuracy: 0.2143 - val_loss: 2.4823 - val_accuracy: 0.2106\n",
            "Epoch 27/30\n",
            "5000/5000 [==============================] - 7s 1ms/step - loss: 2.4529 - accuracy: 0.2165 - val_loss: 2.4513 - val_accuracy: 0.2142\n",
            "Epoch 28/30\n",
            "5000/5000 [==============================] - 8s 2ms/step - loss: 2.4239 - accuracy: 0.2214 - val_loss: 2.4233 - val_accuracy: 0.2217\n",
            "Epoch 29/30\n",
            "5000/5000 [==============================] - 7s 1ms/step - loss: 2.3975 - accuracy: 0.2262 - val_loss: 2.3980 - val_accuracy: 0.2244\n",
            "Epoch 30/30\n",
            "5000/5000 [==============================] - 7s 1ms/step - loss: 2.3734 - accuracy: 0.2285 - val_loss: 2.3746 - val_accuracy: 0.2269\n"
          ],
          "name": "stdout"
        }
      ]
    },
    {
      "cell_type": "code",
      "metadata": {
        "id": "jP4QzfBVNhzS",
        "outputId": "dc216823-66d0-470e-b01c-36eae3c66557",
        "colab": {
          "base_uri": "https://localhost:8080/"
        }
      },
      "source": [
        "model = create_model2(Adamax, lr=.001)\n",
        "\n",
        "Adamax = model.fit(X_train, \n",
        "                       y_train,\n",
        "                       epochs=30,\n",
        "                       batch_size=16,\n",
        "                       validation_data=(X_test, y_test)\n",
        ")"
      ],
      "execution_count": 35,
      "outputs": [
        {
          "output_type": "stream",
          "text": [
            "Epoch 1/30\n",
            "5000/5000 [==============================] - 7s 1ms/step - loss: 2.3278 - accuracy: 0.3829 - val_loss: 1.4163 - val_accuracy: 0.4783\n",
            "Epoch 2/30\n",
            "5000/5000 [==============================] - 7s 1ms/step - loss: 1.3487 - accuracy: 0.5075 - val_loss: 1.2888 - val_accuracy: 0.5250\n",
            "Epoch 3/30\n",
            "5000/5000 [==============================] - 7s 1ms/step - loss: 1.2614 - accuracy: 0.5424 - val_loss: 1.2667 - val_accuracy: 0.5472\n",
            "Epoch 4/30\n",
            "5000/5000 [==============================] - 7s 1ms/step - loss: 1.2051 - accuracy: 0.5657 - val_loss: 1.2015 - val_accuracy: 0.5678\n",
            "Epoch 5/30\n",
            "5000/5000 [==============================] - 7s 1ms/step - loss: 1.1585 - accuracy: 0.5890 - val_loss: 1.1491 - val_accuracy: 0.5899\n",
            "Epoch 6/30\n",
            "5000/5000 [==============================] - 7s 1ms/step - loss: 1.1090 - accuracy: 0.6198 - val_loss: 1.1035 - val_accuracy: 0.6374\n",
            "Epoch 7/30\n",
            "5000/5000 [==============================] - 7s 1ms/step - loss: 1.0583 - accuracy: 0.6436 - val_loss: 1.0846 - val_accuracy: 0.6544\n",
            "Epoch 8/30\n",
            "5000/5000 [==============================] - 7s 1ms/step - loss: 1.0148 - accuracy: 0.6658 - val_loss: 1.0309 - val_accuracy: 0.6690\n",
            "Epoch 9/30\n",
            "5000/5000 [==============================] - 7s 1ms/step - loss: 0.9739 - accuracy: 0.6823 - val_loss: 0.9860 - val_accuracy: 0.6869\n",
            "Epoch 10/30\n",
            "5000/5000 [==============================] - 7s 1ms/step - loss: 0.9339 - accuracy: 0.7016 - val_loss: 0.9714 - val_accuracy: 0.6976\n",
            "Epoch 11/30\n",
            "5000/5000 [==============================] - 7s 1ms/step - loss: 0.9039 - accuracy: 0.7139 - val_loss: 0.9499 - val_accuracy: 0.7155\n",
            "Epoch 12/30\n",
            "5000/5000 [==============================] - 7s 1ms/step - loss: 0.8798 - accuracy: 0.7275 - val_loss: 0.9198 - val_accuracy: 0.7264\n",
            "Epoch 13/30\n",
            "5000/5000 [==============================] - 7s 1ms/step - loss: 0.8610 - accuracy: 0.7355 - val_loss: 0.9147 - val_accuracy: 0.7255\n",
            "Epoch 14/30\n",
            "5000/5000 [==============================] - 7s 1ms/step - loss: 0.8416 - accuracy: 0.7418 - val_loss: 0.8965 - val_accuracy: 0.7393\n",
            "Epoch 15/30\n",
            "5000/5000 [==============================] - 7s 1ms/step - loss: 0.8258 - accuracy: 0.7465 - val_loss: 0.8803 - val_accuracy: 0.7441\n",
            "Epoch 16/30\n",
            "5000/5000 [==============================] - 7s 1ms/step - loss: 0.8103 - accuracy: 0.7516 - val_loss: 0.8672 - val_accuracy: 0.7486\n",
            "Epoch 17/30\n",
            "5000/5000 [==============================] - 7s 1ms/step - loss: 0.7984 - accuracy: 0.7541 - val_loss: 0.8645 - val_accuracy: 0.7510\n",
            "Epoch 18/30\n",
            "5000/5000 [==============================] - 7s 1ms/step - loss: 0.7879 - accuracy: 0.7573 - val_loss: 0.8511 - val_accuracy: 0.7549\n",
            "Epoch 19/30\n",
            "5000/5000 [==============================] - 7s 1ms/step - loss: 0.7758 - accuracy: 0.7609 - val_loss: 0.8459 - val_accuracy: 0.7549\n",
            "Epoch 20/30\n",
            "5000/5000 [==============================] - 7s 1ms/step - loss: 0.7661 - accuracy: 0.7647 - val_loss: 0.8446 - val_accuracy: 0.7493\n",
            "Epoch 21/30\n",
            "5000/5000 [==============================] - 7s 1ms/step - loss: 0.7524 - accuracy: 0.7671 - val_loss: 0.8471 - val_accuracy: 0.7508\n",
            "Epoch 22/30\n",
            "5000/5000 [==============================] - 7s 1ms/step - loss: 0.7459 - accuracy: 0.7699 - val_loss: 0.8278 - val_accuracy: 0.7588\n",
            "Epoch 23/30\n",
            "5000/5000 [==============================] - 7s 1ms/step - loss: 0.7356 - accuracy: 0.7722 - val_loss: 0.8175 - val_accuracy: 0.7623\n",
            "Epoch 24/30\n",
            "5000/5000 [==============================] - 7s 1ms/step - loss: 0.7286 - accuracy: 0.7742 - val_loss: 0.8196 - val_accuracy: 0.7620\n",
            "Epoch 25/30\n",
            "5000/5000 [==============================] - 7s 1ms/step - loss: 0.7224 - accuracy: 0.7751 - val_loss: 0.8262 - val_accuracy: 0.7569\n",
            "Epoch 26/30\n",
            "5000/5000 [==============================] - 7s 1ms/step - loss: 0.7135 - accuracy: 0.7766 - val_loss: 0.8091 - val_accuracy: 0.7643\n",
            "Epoch 27/30\n",
            "5000/5000 [==============================] - 7s 1ms/step - loss: 0.7070 - accuracy: 0.7807 - val_loss: 0.8099 - val_accuracy: 0.7645\n",
            "Epoch 28/30\n",
            "5000/5000 [==============================] - 7s 1ms/step - loss: 0.7006 - accuracy: 0.7828 - val_loss: 0.8020 - val_accuracy: 0.7687\n",
            "Epoch 29/30\n",
            "5000/5000 [==============================] - 7s 1ms/step - loss: 0.6934 - accuracy: 0.7853 - val_loss: 0.8074 - val_accuracy: 0.7645\n",
            "Epoch 30/30\n",
            "5000/5000 [==============================] - 7s 1ms/step - loss: 0.6869 - accuracy: 0.7874 - val_loss: 0.7975 - val_accuracy: 0.7679\n"
          ],
          "name": "stdout"
        }
      ]
    },
    {
      "cell_type": "code",
      "metadata": {
        "id": "sS-vXPDoNlwV",
        "outputId": "abae3dea-dead-4c9b-b4a1-40c367078145",
        "colab": {
          "base_uri": "https://localhost:8080/"
        }
      },
      "source": [
        "\n",
        "model = create_model2(Ftrl, lr=.001)\n",
        "\n",
        "Ftrl = model.fit(X_train, \n",
        "                       y_train,\n",
        "                       epochs=30,\n",
        "                       batch_size=16,\n",
        "                       validation_data=(X_test, y_test)\n",
        ")"
      ],
      "execution_count": 36,
      "outputs": [
        {
          "output_type": "stream",
          "text": [
            "Epoch 1/30\n",
            "5000/5000 [==============================] - 8s 2ms/step - loss: 3.2537 - accuracy: 0.3525 - val_loss: 1.7687 - val_accuracy: 0.4336\n",
            "Epoch 2/30\n",
            "5000/5000 [==============================] - 8s 2ms/step - loss: 1.7014 - accuracy: 0.4503 - val_loss: 1.6272 - val_accuracy: 0.4674\n",
            "Epoch 3/30\n",
            "5000/5000 [==============================] - 9s 2ms/step - loss: 1.5982 - accuracy: 0.4828 - val_loss: 1.5494 - val_accuracy: 0.5011\n",
            "Epoch 4/30\n",
            "5000/5000 [==============================] - 11s 2ms/step - loss: 1.5282 - accuracy: 0.5104 - val_loss: 1.4846 - val_accuracy: 0.5270\n",
            "Epoch 5/30\n",
            "5000/5000 [==============================] - 11s 2ms/step - loss: 1.4674 - accuracy: 0.5373 - val_loss: 1.4279 - val_accuracy: 0.5501\n",
            "Epoch 6/30\n",
            "5000/5000 [==============================] - 9s 2ms/step - loss: 1.4124 - accuracy: 0.5584 - val_loss: 1.3799 - val_accuracy: 0.5670\n",
            "Epoch 7/30\n",
            "5000/5000 [==============================] - 9s 2ms/step - loss: 1.3637 - accuracy: 0.5732 - val_loss: 1.3344 - val_accuracy: 0.5799\n",
            "Epoch 8/30\n",
            "5000/5000 [==============================] - 9s 2ms/step - loss: 1.3118 - accuracy: 0.5814 - val_loss: 1.2796 - val_accuracy: 0.5806\n",
            "Epoch 9/30\n",
            "5000/5000 [==============================] - 9s 2ms/step - loss: 1.2540 - accuracy: 0.5790 - val_loss: 1.2337 - val_accuracy: 0.5817\n",
            "Epoch 10/30\n",
            "5000/5000 [==============================] - 10s 2ms/step - loss: 1.2128 - accuracy: 0.5806 - val_loss: 1.2017 - val_accuracy: 0.5854\n",
            "Epoch 11/30\n",
            "5000/5000 [==============================] - 9s 2ms/step - loss: 1.1813 - accuracy: 0.5854 - val_loss: 1.1758 - val_accuracy: 0.5918\n",
            "Epoch 12/30\n",
            "5000/5000 [==============================] - 10s 2ms/step - loss: 1.1546 - accuracy: 0.5919 - val_loss: 1.1543 - val_accuracy: 0.5957\n",
            "Epoch 13/30\n",
            "5000/5000 [==============================] - 9s 2ms/step - loss: 1.1310 - accuracy: 0.6006 - val_loss: 1.1346 - val_accuracy: 0.6011\n",
            "Epoch 14/30\n",
            "5000/5000 [==============================] - 9s 2ms/step - loss: 1.1113 - accuracy: 0.6076 - val_loss: 1.1194 - val_accuracy: 0.6130\n",
            "Epoch 15/30\n",
            "5000/5000 [==============================] - 9s 2ms/step - loss: 1.0950 - accuracy: 0.6166 - val_loss: 1.1052 - val_accuracy: 0.6138\n",
            "Epoch 16/30\n",
            "5000/5000 [==============================] - 9s 2ms/step - loss: 1.0811 - accuracy: 0.6239 - val_loss: 1.0940 - val_accuracy: 0.6196\n",
            "Epoch 17/30\n",
            "5000/5000 [==============================] - 8s 2ms/step - loss: 1.0687 - accuracy: 0.6316 - val_loss: 1.0830 - val_accuracy: 0.6307\n",
            "Epoch 18/30\n",
            "5000/5000 [==============================] - 9s 2ms/step - loss: 1.0573 - accuracy: 0.6425 - val_loss: 1.0739 - val_accuracy: 0.6454\n",
            "Epoch 19/30\n",
            "5000/5000 [==============================] - 9s 2ms/step - loss: 1.0467 - accuracy: 0.6472 - val_loss: 1.0647 - val_accuracy: 0.6488\n",
            "Epoch 20/30\n",
            "5000/5000 [==============================] - 8s 2ms/step - loss: 1.0372 - accuracy: 0.6498 - val_loss: 1.0551 - val_accuracy: 0.6521\n",
            "Epoch 21/30\n",
            "5000/5000 [==============================] - 9s 2ms/step - loss: 1.0282 - accuracy: 0.6516 - val_loss: 1.0472 - val_accuracy: 0.6486\n",
            "Epoch 22/30\n",
            "5000/5000 [==============================] - 9s 2ms/step - loss: 1.0198 - accuracy: 0.6533 - val_loss: 1.0398 - val_accuracy: 0.6515\n",
            "Epoch 23/30\n",
            "5000/5000 [==============================] - 8s 2ms/step - loss: 1.0121 - accuracy: 0.6552 - val_loss: 1.0320 - val_accuracy: 0.6542\n",
            "Epoch 24/30\n",
            "5000/5000 [==============================] - 9s 2ms/step - loss: 1.0046 - accuracy: 0.6580 - val_loss: 1.0255 - val_accuracy: 0.6561\n",
            "Epoch 25/30\n",
            "5000/5000 [==============================] - 9s 2ms/step - loss: 0.9979 - accuracy: 0.6604 - val_loss: 1.0192 - val_accuracy: 0.6584\n",
            "Epoch 26/30\n",
            "5000/5000 [==============================] - 9s 2ms/step - loss: 0.9915 - accuracy: 0.6629 - val_loss: 1.0133 - val_accuracy: 0.6604\n",
            "Epoch 27/30\n",
            "5000/5000 [==============================] - 9s 2ms/step - loss: 0.9855 - accuracy: 0.6648 - val_loss: 1.0077 - val_accuracy: 0.6633\n",
            "Epoch 28/30\n",
            "5000/5000 [==============================] - 9s 2ms/step - loss: 0.9796 - accuracy: 0.6674 - val_loss: 1.0019 - val_accuracy: 0.6652\n",
            "Epoch 29/30\n",
            "5000/5000 [==============================] - 8s 2ms/step - loss: 0.9740 - accuracy: 0.6694 - val_loss: 0.9968 - val_accuracy: 0.6664\n",
            "Epoch 30/30\n",
            "5000/5000 [==============================] - 8s 2ms/step - loss: 0.9688 - accuracy: 0.6715 - val_loss: 0.9918 - val_accuracy: 0.6684\n"
          ],
          "name": "stdout"
        }
      ]
    },
    {
      "cell_type": "code",
      "metadata": {
        "id": "ykTWInMDNoSO",
        "outputId": "5402f277-09e5-4f5e-f074-19a47062b990",
        "colab": {
          "base_uri": "https://localhost:8080/"
        }
      },
      "source": [
        "model = create_model2(Nadam, lr=.001)\n",
        "\n",
        "Nadam = model.fit(X_train, \n",
        "                       y_train,\n",
        "                       epochs=30,\n",
        "                       batch_size=16,\n",
        "                       validation_data=(X_test, y_test)\n",
        ")"
      ],
      "execution_count": 37,
      "outputs": [
        {
          "output_type": "stream",
          "text": [
            "Epoch 1/30\n",
            "5000/5000 [==============================] - 8s 2ms/step - loss: 1.9220 - accuracy: 0.3909 - val_loss: 1.2912 - val_accuracy: 0.5801\n",
            "Epoch 2/30\n",
            "5000/5000 [==============================] - 8s 2ms/step - loss: 1.2533 - accuracy: 0.5806 - val_loss: 1.1558 - val_accuracy: 0.5990\n",
            "Epoch 3/30\n",
            "5000/5000 [==============================] - 8s 2ms/step - loss: 1.1509 - accuracy: 0.6133 - val_loss: 1.1588 - val_accuracy: 0.5993\n",
            "Epoch 4/30\n",
            "5000/5000 [==============================] - 8s 2ms/step - loss: 1.1124 - accuracy: 0.6322 - val_loss: 1.0764 - val_accuracy: 0.6574\n",
            "Epoch 5/30\n",
            "5000/5000 [==============================] - 8s 2ms/step - loss: 1.0707 - accuracy: 0.6470 - val_loss: 1.0926 - val_accuracy: 0.6375\n",
            "Epoch 6/30\n",
            "5000/5000 [==============================] - 8s 2ms/step - loss: 1.0368 - accuracy: 0.6523 - val_loss: 1.0280 - val_accuracy: 0.6447\n",
            "Epoch 7/30\n",
            "5000/5000 [==============================] - 10s 2ms/step - loss: 1.0163 - accuracy: 0.6560 - val_loss: 1.0038 - val_accuracy: 0.6568\n",
            "Epoch 8/30\n",
            "5000/5000 [==============================] - 8s 2ms/step - loss: 0.9844 - accuracy: 0.6711 - val_loss: 0.9832 - val_accuracy: 0.6763\n",
            "Epoch 9/30\n",
            "5000/5000 [==============================] - 8s 2ms/step - loss: 0.9628 - accuracy: 0.6815 - val_loss: 0.9594 - val_accuracy: 0.6859\n",
            "Epoch 10/30\n",
            "5000/5000 [==============================] - 9s 2ms/step - loss: 0.9464 - accuracy: 0.6884 - val_loss: 0.9475 - val_accuracy: 0.6823\n",
            "Epoch 11/30\n",
            "5000/5000 [==============================] - 10s 2ms/step - loss: 0.9498 - accuracy: 0.6875 - val_loss: 0.9481 - val_accuracy: 0.6888\n",
            "Epoch 12/30\n",
            "5000/5000 [==============================] - 9s 2ms/step - loss: 0.9332 - accuracy: 0.6918 - val_loss: 0.9443 - val_accuracy: 0.6847\n",
            "Epoch 13/30\n",
            "5000/5000 [==============================] - 9s 2ms/step - loss: 0.9365 - accuracy: 0.6889 - val_loss: 0.9705 - val_accuracy: 0.6780\n",
            "Epoch 14/30\n",
            "5000/5000 [==============================] - 9s 2ms/step - loss: 0.9309 - accuracy: 0.6907 - val_loss: 0.9467 - val_accuracy: 0.6873\n",
            "Epoch 15/30\n",
            "5000/5000 [==============================] - 11s 2ms/step - loss: 0.9462 - accuracy: 0.6901 - val_loss: 0.9485 - val_accuracy: 0.6891\n",
            "Epoch 16/30\n",
            "5000/5000 [==============================] - 9s 2ms/step - loss: 0.9336 - accuracy: 0.6923 - val_loss: 0.9505 - val_accuracy: 0.6917\n",
            "Epoch 17/30\n",
            "5000/5000 [==============================] - 8s 2ms/step - loss: 0.9277 - accuracy: 0.6920 - val_loss: 0.9687 - val_accuracy: 0.6819\n",
            "Epoch 18/30\n",
            "5000/5000 [==============================] - 11s 2ms/step - loss: 0.8940 - accuracy: 0.7070 - val_loss: 0.9037 - val_accuracy: 0.7067\n",
            "Epoch 19/30\n",
            "5000/5000 [==============================] - 11s 2ms/step - loss: 0.8787 - accuracy: 0.7141 - val_loss: 0.9015 - val_accuracy: 0.7074\n",
            "Epoch 20/30\n",
            "5000/5000 [==============================] - 9s 2ms/step - loss: 0.8744 - accuracy: 0.7140 - val_loss: 0.8906 - val_accuracy: 0.7135\n",
            "Epoch 21/30\n",
            "5000/5000 [==============================] - 9s 2ms/step - loss: 0.8735 - accuracy: 0.7120 - val_loss: 0.9151 - val_accuracy: 0.7005\n",
            "Epoch 22/30\n",
            "5000/5000 [==============================] - 9s 2ms/step - loss: 0.8716 - accuracy: 0.7123 - val_loss: 0.9275 - val_accuracy: 0.7126\n",
            "Epoch 23/30\n",
            "5000/5000 [==============================] - 9s 2ms/step - loss: 0.8693 - accuracy: 0.7152 - val_loss: 0.8896 - val_accuracy: 0.7068\n",
            "Epoch 24/30\n",
            "5000/5000 [==============================] - 9s 2ms/step - loss: 0.8643 - accuracy: 0.7178 - val_loss: 0.9213 - val_accuracy: 0.7082\n",
            "Epoch 25/30\n",
            "5000/5000 [==============================] - 9s 2ms/step - loss: 0.8667 - accuracy: 0.7179 - val_loss: 0.9112 - val_accuracy: 0.7065\n",
            "Epoch 26/30\n",
            "5000/5000 [==============================] - 9s 2ms/step - loss: 0.8772 - accuracy: 0.7124 - val_loss: 0.9248 - val_accuracy: 0.7005\n",
            "Epoch 27/30\n",
            "5000/5000 [==============================] - 9s 2ms/step - loss: 0.8610 - accuracy: 0.7169 - val_loss: 0.9054 - val_accuracy: 0.6993\n",
            "Epoch 28/30\n",
            "5000/5000 [==============================] - 8s 2ms/step - loss: 0.8620 - accuracy: 0.7126 - val_loss: 0.9227 - val_accuracy: 0.6985\n",
            "Epoch 29/30\n",
            "5000/5000 [==============================] - 9s 2ms/step - loss: 0.8683 - accuracy: 0.7133 - val_loss: 0.8927 - val_accuracy: 0.7046\n",
            "Epoch 30/30\n",
            "5000/5000 [==============================] - 8s 2ms/step - loss: 0.8657 - accuracy: 0.7126 - val_loss: 0.9258 - val_accuracy: 0.6969\n"
          ],
          "name": "stdout"
        }
      ]
    },
    {
      "cell_type": "code",
      "metadata": {
        "id": "_i9kuIbZRXF9",
        "outputId": "d398a3c6-cff4-4638-93e1-8dfa28659c77",
        "colab": {
          "base_uri": "https://localhost:8080/"
        }
      },
      "source": [
        "model = create_model2(Adagrad, lr=.001)\n",
        "\n",
        "Adagrad = model.fit(X_train, \n",
        "                       y_train,\n",
        "                       epochs=30,\n",
        "                       batch_size=16,\n",
        "                       validation_data=(X_test, y_test)\n",
        ")"
      ],
      "execution_count": 39,
      "outputs": [
        {
          "output_type": "stream",
          "text": [
            "Epoch 1/30\n",
            "5000/5000 [==============================] - 7s 1ms/step - loss: 3.4782 - accuracy: 0.1859 - val_loss: 2.2690 - val_accuracy: 0.2077\n",
            "Epoch 2/30\n",
            "5000/5000 [==============================] - 7s 1ms/step - loss: 2.2080 - accuracy: 0.2173 - val_loss: 2.1630 - val_accuracy: 0.2312\n",
            "Epoch 3/30\n",
            "5000/5000 [==============================] - 6s 1ms/step - loss: 2.1190 - accuracy: 0.2472 - val_loss: 2.0947 - val_accuracy: 0.2583\n",
            "Epoch 4/30\n",
            "5000/5000 [==============================] - 7s 1ms/step - loss: 2.0518 - accuracy: 0.2758 - val_loss: 2.0346 - val_accuracy: 0.2853\n",
            "Epoch 5/30\n",
            "5000/5000 [==============================] - 7s 1ms/step - loss: 1.9949 - accuracy: 0.2963 - val_loss: 1.9871 - val_accuracy: 0.3013\n",
            "Epoch 6/30\n",
            "5000/5000 [==============================] - 7s 1ms/step - loss: 1.9463 - accuracy: 0.3132 - val_loss: 1.9461 - val_accuracy: 0.3173\n",
            "Epoch 7/30\n",
            "5000/5000 [==============================] - 7s 1ms/step - loss: 1.9080 - accuracy: 0.3257 - val_loss: 1.9122 - val_accuracy: 0.3324\n",
            "Epoch 8/30\n",
            "5000/5000 [==============================] - 7s 1ms/step - loss: 1.8735 - accuracy: 0.3417 - val_loss: 1.8765 - val_accuracy: 0.3483\n",
            "Epoch 9/30\n",
            "5000/5000 [==============================] - 8s 2ms/step - loss: 1.8378 - accuracy: 0.3575 - val_loss: 1.8429 - val_accuracy: 0.3651\n",
            "Epoch 10/30\n",
            "5000/5000 [==============================] - 9s 2ms/step - loss: 1.8087 - accuracy: 0.3695 - val_loss: 1.8169 - val_accuracy: 0.3755\n",
            "Epoch 11/30\n",
            "5000/5000 [==============================] - 7s 1ms/step - loss: 1.7833 - accuracy: 0.3792 - val_loss: 1.7923 - val_accuracy: 0.3849\n",
            "Epoch 12/30\n",
            "5000/5000 [==============================] - 7s 1ms/step - loss: 1.7594 - accuracy: 0.3882 - val_loss: 1.7700 - val_accuracy: 0.3918\n",
            "Epoch 13/30\n",
            "5000/5000 [==============================] - 7s 1ms/step - loss: 1.7358 - accuracy: 0.3968 - val_loss: 1.7464 - val_accuracy: 0.3992\n",
            "Epoch 14/30\n",
            "5000/5000 [==============================] - 8s 2ms/step - loss: 1.7116 - accuracy: 0.4041 - val_loss: 1.7215 - val_accuracy: 0.4064\n",
            "Epoch 15/30\n",
            "5000/5000 [==============================] - 7s 1ms/step - loss: 1.6867 - accuracy: 0.4112 - val_loss: 1.6959 - val_accuracy: 0.4139\n",
            "Epoch 16/30\n",
            "5000/5000 [==============================] - 7s 1ms/step - loss: 1.6601 - accuracy: 0.4185 - val_loss: 1.6698 - val_accuracy: 0.4205\n",
            "Epoch 17/30\n",
            "5000/5000 [==============================] - 7s 1ms/step - loss: 1.6335 - accuracy: 0.4258 - val_loss: 1.6452 - val_accuracy: 0.4277\n",
            "Epoch 18/30\n",
            "5000/5000 [==============================] - 7s 1ms/step - loss: 1.6093 - accuracy: 0.4316 - val_loss: 1.6229 - val_accuracy: 0.4327\n",
            "Epoch 19/30\n",
            "5000/5000 [==============================] - 7s 1ms/step - loss: 1.5873 - accuracy: 0.4376 - val_loss: 1.6039 - val_accuracy: 0.4352\n",
            "Epoch 20/30\n",
            "5000/5000 [==============================] - 7s 1ms/step - loss: 1.5686 - accuracy: 0.4423 - val_loss: 1.5880 - val_accuracy: 0.4408\n",
            "Epoch 21/30\n",
            "5000/5000 [==============================] - 7s 1ms/step - loss: 1.5519 - accuracy: 0.4467 - val_loss: 1.5742 - val_accuracy: 0.4444\n",
            "Epoch 22/30\n",
            "5000/5000 [==============================] - 7s 1ms/step - loss: 1.5373 - accuracy: 0.4504 - val_loss: 1.5610 - val_accuracy: 0.4484\n",
            "Epoch 23/30\n",
            "5000/5000 [==============================] - 7s 1ms/step - loss: 1.5243 - accuracy: 0.4538 - val_loss: 1.5504 - val_accuracy: 0.4515\n",
            "Epoch 24/30\n",
            "5000/5000 [==============================] - 7s 1ms/step - loss: 1.5130 - accuracy: 0.4696 - val_loss: 1.5392 - val_accuracy: 0.4820\n",
            "Epoch 25/30\n",
            "5000/5000 [==============================] - 7s 1ms/step - loss: 1.5025 - accuracy: 0.4858 - val_loss: 1.5293 - val_accuracy: 0.4851\n",
            "Epoch 26/30\n",
            "5000/5000 [==============================] - 7s 1ms/step - loss: 1.4926 - accuracy: 0.4898 - val_loss: 1.5198 - val_accuracy: 0.4897\n",
            "Epoch 27/30\n",
            "5000/5000 [==============================] - 7s 1ms/step - loss: 1.4831 - accuracy: 0.4936 - val_loss: 1.5100 - val_accuracy: 0.4947\n",
            "Epoch 28/30\n",
            "5000/5000 [==============================] - 7s 1ms/step - loss: 1.4739 - accuracy: 0.4972 - val_loss: 1.5008 - val_accuracy: 0.4959\n",
            "Epoch 29/30\n",
            "5000/5000 [==============================] - 7s 1ms/step - loss: 1.4650 - accuracy: 0.5008 - val_loss: 1.4933 - val_accuracy: 0.5010\n",
            "Epoch 30/30\n",
            "5000/5000 [==============================] - 7s 1ms/step - loss: 1.4565 - accuracy: 0.5044 - val_loss: 1.4850 - val_accuracy: 0.5034\n"
          ],
          "name": "stdout"
        }
      ]
    },
    {
      "cell_type": "code",
      "metadata": {
        "id": "WtOSYCH5Nq5n",
        "outputId": "906a1c01-3e11-4712-8e8e-347632dca27a",
        "colab": {
          "base_uri": "https://localhost:8080/",
          "height": 204
        }
      },
      "source": [
        "for exp, result in zip([RMSprop, Adadelta, Adagrad, Adamax, Ftrl,Nadam], [\"RMSprop\", \"Adadelta\", \"Adagrad\", \"Adamax\", \"Ftrl\",\"Nadam\"]):\n",
        "    df = pd.DataFrame.from_dict(exp.history)\n",
        "    df['epoch'] = df.index.values\n",
        "    df['Optimzers'] = result\n",
        "    batch_sizes.append(df)\n",
        "\n",
        "df = pd.concat(batch_sizes)\n",
        "df['Optimzers'] = df['Optimzers'].astype('str')\n",
        "df.head()"
      ],
      "execution_count": 40,
      "outputs": [
        {
          "output_type": "execute_result",
          "data": {
            "text/html": [
              "<div>\n",
              "<style scoped>\n",
              "    .dataframe tbody tr th:only-of-type {\n",
              "        vertical-align: middle;\n",
              "    }\n",
              "\n",
              "    .dataframe tbody tr th {\n",
              "        vertical-align: top;\n",
              "    }\n",
              "\n",
              "    .dataframe thead th {\n",
              "        text-align: right;\n",
              "    }\n",
              "</style>\n",
              "<table border=\"1\" class=\"dataframe\">\n",
              "  <thead>\n",
              "    <tr style=\"text-align: right;\">\n",
              "      <th></th>\n",
              "      <th>loss</th>\n",
              "      <th>accuracy</th>\n",
              "      <th>val_loss</th>\n",
              "      <th>val_accuracy</th>\n",
              "      <th>epoch</th>\n",
              "      <th>learning_rate</th>\n",
              "      <th>Optimzers</th>\n",
              "    </tr>\n",
              "  </thead>\n",
              "  <tbody>\n",
              "    <tr>\n",
              "      <th>0</th>\n",
              "      <td>18.582613</td>\n",
              "      <td>0.100825</td>\n",
              "      <td>6.506365</td>\n",
              "      <td>0.09935</td>\n",
              "      <td>0</td>\n",
              "      <td>.25</td>\n",
              "      <td>nan</td>\n",
              "    </tr>\n",
              "    <tr>\n",
              "      <th>1</th>\n",
              "      <td>5.823158</td>\n",
              "      <td>0.101550</td>\n",
              "      <td>2.331576</td>\n",
              "      <td>0.09895</td>\n",
              "      <td>1</td>\n",
              "      <td>.25</td>\n",
              "      <td>nan</td>\n",
              "    </tr>\n",
              "    <tr>\n",
              "      <th>2</th>\n",
              "      <td>2.335285</td>\n",
              "      <td>0.097888</td>\n",
              "      <td>2.363734</td>\n",
              "      <td>0.10020</td>\n",
              "      <td>2</td>\n",
              "      <td>.25</td>\n",
              "      <td>nan</td>\n",
              "    </tr>\n",
              "    <tr>\n",
              "      <th>3</th>\n",
              "      <td>2.332596</td>\n",
              "      <td>0.100000</td>\n",
              "      <td>2.352314</td>\n",
              "      <td>0.09895</td>\n",
              "      <td>3</td>\n",
              "      <td>.25</td>\n",
              "      <td>nan</td>\n",
              "    </tr>\n",
              "    <tr>\n",
              "      <th>4</th>\n",
              "      <td>2.332273</td>\n",
              "      <td>0.100175</td>\n",
              "      <td>2.330550</td>\n",
              "      <td>0.10075</td>\n",
              "      <td>4</td>\n",
              "      <td>.25</td>\n",
              "      <td>nan</td>\n",
              "    </tr>\n",
              "  </tbody>\n",
              "</table>\n",
              "</div>"
            ],
            "text/plain": [
              "        loss  accuracy  val_loss  val_accuracy  epoch learning_rate Optimzers\n",
              "0  18.582613  0.100825  6.506365       0.09935      0           .25       nan\n",
              "1   5.823158  0.101550  2.331576       0.09895      1           .25       nan\n",
              "2   2.335285  0.097888  2.363734       0.10020      2           .25       nan\n",
              "3   2.332596  0.100000  2.352314       0.09895      3           .25       nan\n",
              "4   2.332273  0.100175  2.330550       0.10075      4           .25       nan"
            ]
          },
          "metadata": {
            "tags": []
          },
          "execution_count": 40
        }
      ]
    },
    {
      "cell_type": "code",
      "metadata": {
        "id": "mWKZSXiwNswE",
        "outputId": "0b6a5afa-36ac-4f00-bbae-399d8610ba3c",
        "colab": {
          "base_uri": "https://localhost:8080/",
          "height": 283
        }
      },
      "source": [
        "sns.lineplot(x='epoch', y='val_accuracy', hue='Optimzers', data=df);"
      ],
      "execution_count": 41,
      "outputs": [
        {
          "output_type": "display_data",
          "data": {
            "image/png": "[encoded data removed]",
            "text/plain": [
              "<Figure size 432x288 with 1 Axes>"
            ]
          },
          "metadata": {
            "tags": [],
            "needs_background": "light"
          }
        }
      ]
    },
    {
      "cell_type": "markdown",
      "metadata": {
        "id": "ydAqeY9S8uHA"
      },
      "source": [
        "### Additional Written Tasks\n",
        "\n",
        "1. Describe the process of backpropagation in your own words: \n",
        "```\n",
        "Backpropagation is an algorithm being used to train neural networks where once initialized, and weights are provided to neurons. Outputs are captured based on inputs which are passed through the neurons.\n",
        "```\n",
        "\n"
      ]
    },
    {
      "cell_type": "markdown",
      "metadata": {
        "id": "FwlRJSfBlCvy"
      },
      "source": [
        "## Stretch Goals: \n",
        "\n",
        "- Implement GridSearch on anyone of the experiments\n",
        "- On the learning rate experiments, implement [EarlyStopping](https://www.tensorflow.org/api_docs/python/tf/keras/callbacks/EarlyStopping)\n",
        "- Review material on the math behind gradient descent: \n",
        "\n",
        "  - Gradient Descent\n",
        "    - Gradient Descent, Step-by-Step  by StatQuest w/ Josh Starmer. This will help you understand the gradient descent based optimization that happens underneath the hood of neural networks. It uses a non-neural network example, which I believe is a gentler introduction. You will hear me refer to this technique as \"vanilla\" gradient descent. \n",
        "    - Stochastic Gradient Descent, Clearly Explained!!! by StatQuest w/ Josh Starmer. This builds on the techniques in the previous video.  This technique is the one that is actually implemented inside modern 'nets. \n",
        "These are great resources to help you understand tomorrow's material at a deeper level. I highly recommend watching these ahead of tomorrow.\n",
        "\n",
        "  - Background Math\n",
        "    - Dot products and duality by 3Blue1Brown. Explains the core linear algebra operation happening in today's perceptron.\n",
        "The paradox of the derivative by 3Blue1Brown. Does a great job explaining a derivative. \n",
        "    - Visualizing the chain rule and product rule by 3Blue1Brown. Explains the black magic that happens within Stochastic Gradient Descent. \n",
        "These math resources are very much optional. They can be very heady, but I encourage you to explore. Your understanding of neural networks will greatly increase if you understand this math background.\n",
        "\n",
        "\n"
      ]
    }
  ]
}